{
 "cells": [
  {
   "cell_type": "markdown",
   "metadata": {
    "id": "naPWqtUVigTd"
   },
   "source": [
    "---\n",
    "---\n",
    "# **`CASE STUDY - 1` :: Healthcare Provider Fraudulent Detection**\n",
    "\n",
    "<img src=\"Display_Pic.png\" alt=\"drawing\" width=\"950\"/>\n",
    "\n",
    "---\n",
    "---\n",
    "\n",
    "\n",
    "**This notebook contains the feature engineering :-**\n",
    "   - **Final Model Pipelining**\n",
    "\n",
    "\n",
    "**Above steps are performed on the publicly available dataset at [Kaggle](https://www.kaggle.com/datasets/rohitrox/healthcare-provider-fraud-detection-analysis).**\n",
    "\n",
    "\n",
    "**Kindly checkout below link for gaining BUSINESS related insights related to this problem ::**\n",
    "\n",
    "- [Deck : Detailed Explanation](https://docs.google.com/presentation/d/1Thuw_eZskafkl9W3xYuEVsjgTJKFeEkzEfAmczH96Uw/)\n",
    "\n",
    "\n",
    "**Kindly checkout below link for TECHNICAL design document ::**\n",
    "\n",
    "- [Technical Document](https://docs.google.com/document/d/10z9xbn4dZWkforlAszCDaa1M0roAW-MOf2pjJHSnEXk/)\n",
    "\n",
    "\n",
    "**Kindly checkout below link for In-depth Description and Reasoning of all the Features ::**\n",
    "\n",
    "- [Features Description](https://docs.google.com/spreadsheets/d/1ktwjad3U-hGT_7yccGyZC4AzGhWAMs3RHrIMk8Gi8xQ/)"
   ]
  },
  {
   "cell_type": "markdown",
   "metadata": {
    "id": "PHkkU2ExpgPR"
   },
   "source": [
    "# **`Notebook Contents`**"
   ]
  },
  {
   "cell_type": "markdown",
   "metadata": {
    "colab_type": "toc",
    "id": "ZsqH5e9kpIzv"
   },
   "source": [
    ">[CASE STUDY - 1 :: Healthcare Provider Fraudulent Detection](#scrollTo=naPWqtUVigTd)\n",
    "\n",
    ">[Notebook Contents](#scrollTo=PHkkU2ExpgPR)\n",
    "\n",
    ">>[Importing_Libraries](#scrollTo=ThPD8j4PnuVH)\n",
    "\n",
    ">>[Unseen_Data_Files](#scrollTo=c16_htZKnucm)\n",
    "\n",
    ">>[Final_Pipeline](#scrollTo=eAXKdt1pyngk)\n",
    "\n",
    ">>>[SUMMARY](#scrollTo=r-VhXYclyng3)\n",
    "\n",
    ">>[Performance_on_TRAIN_and_VALIDATION_Sets](#scrollTo=0IC2VKpXyng4)\n",
    "\n",
    ">>>[SUMMARY](#scrollTo=ZfOButQ2ynhB)\n",
    "\n"
   ]
  },
  {
   "cell_type": "markdown",
   "metadata": {
    "id": "ThPD8j4PnuVH"
   },
   "source": [
    "## **Importing_Libraries**"
   ]
  },
  {
   "cell_type": "code",
   "execution_count": 2,
   "metadata": {
    "execution": {
     "iopub.execute_input": "2022-09-02T11:54:58.198503Z",
     "iopub.status.busy": "2022-09-02T11:54:58.196502Z",
     "iopub.status.idle": "2022-09-02T11:55:06.753538Z",
     "shell.execute_reply": "2022-09-02T11:55:06.750537Z",
     "shell.execute_reply.started": "2022-09-02T11:54:58.198503Z"
    },
    "id": "l6qT6r78nuZC"
   },
   "outputs": [],
   "source": [
    "import os\n",
    "import sys\n",
    "import numpy as np\n",
    "import pandas as pd\n",
    "import joblib\n",
    "\n",
    "import matplotlib.pyplot as plt\n",
    "import seaborn as sns\n",
    "from sklearn import metrics\n",
    "from sklearn.metrics import accuracy_score, precision_score, recall_score, f1_score, roc_auc_score, confusion_matrix, roc_curve, auc\n",
    "from sklearn.calibration import CalibratedClassifierCV\n",
    "\n",
    "%matplotlib inline"
   ]
  },
  {
   "cell_type": "code",
   "execution_count": 3,
   "metadata": {
    "execution": {
     "iopub.execute_input": "2022-09-02T11:55:06.760541Z",
     "iopub.status.busy": "2022-09-02T11:55:06.758537Z",
     "iopub.status.idle": "2022-09-02T11:55:06.801537Z",
     "shell.execute_reply": "2022-09-02T11:55:06.799537Z",
     "shell.execute_reply.started": "2022-09-02T11:55:06.760541Z"
    },
    "id": "ggC6AoW9u3VV"
   },
   "outputs": [],
   "source": [
    "pd.set_option('display.max_columns',80)\n",
    "label_font_dict = {'family':'sans-serif','size':13.5,'color':'brown','style':'italic'}\n",
    "title_font_dict = {'family':'sans-serif','size':16.5,'color':'Blue','style':'italic'}"
   ]
  },
  {
   "cell_type": "markdown",
   "metadata": {
    "id": "c16_htZKnucm"
   },
   "source": [
    "## **Unseen_Data_Files**"
   ]
  },
  {
   "cell_type": "code",
   "execution_count": 4,
   "metadata": {
    "execution": {
     "iopub.execute_input": "2022-09-02T11:55:06.807536Z",
     "iopub.status.busy": "2022-09-02T11:55:06.806536Z",
     "iopub.status.idle": "2022-09-02T11:55:06.895533Z",
     "shell.execute_reply": "2022-09-02T11:55:06.892537Z",
     "shell.execute_reply.started": "2022-09-02T11:55:06.807536Z"
    },
    "id": "Ge75LVO0yngh",
    "outputId": "4e80ec65-ccb1-4258-da89-6a5fdbc5f1c2"
   },
   "outputs": [
    {
     "name": "stdout",
     "output_type": "stream",
     "text": [
      "### Location where we have all the unseen data files --> E:\\STUDY\\PROJECTS\\AAIC_Case_Study_1\\Dataset\\TEST\n"
     ]
    }
   ],
   "source": [
    "# Unseen dataset files\n",
    "bene_file = \"Test_Beneficiarydata-1542969243754.csv\"\n",
    "ip_file = \"Test_Inpatientdata-1542969243754.csv\"\n",
    "op_file = \"Test_Outpatientdata-1542969243754.csv\"\n",
    "tgt_lbl_file = \"Test-1542969243754.csv\"\n",
    "\n",
    "# Folder hierarchies \n",
    "folder_1 = \"Dataset\"\n",
    "folder_2 = \"TEST\"\n",
    "data_files_loc = os.path.join(os.path.join(os.getcwd(), folder_1), folder_2)\n",
    "print(\"### Location where we have all the unseen data files --> {}\".format(data_files_loc))"
   ]
  },
  {
   "cell_type": "markdown",
   "metadata": {
    "id": "eAXKdt1pyngk"
   },
   "source": [
    "## **Final_Pipeline**"
   ]
  },
  {
   "cell_type": "code",
   "execution_count": 5,
   "metadata": {
    "execution": {
     "iopub.execute_input": "2022-09-02T11:55:06.903538Z",
     "iopub.status.busy": "2022-09-02T11:55:06.901539Z",
     "iopub.status.idle": "2022-09-02T11:55:06.975538Z",
     "shell.execute_reply": "2022-09-02T11:55:06.972539Z",
     "shell.execute_reply.started": "2022-09-02T11:55:06.903538Z"
    },
    "id": "jAJxDhqhyngl"
   },
   "outputs": [],
   "source": [
    "def unseen_data_files_names(files_loc, bene_data, ip_data, op_data, tgt_lbl_data):\n",
    "    \"\"\"\n",
    "    Description : This function is created for reading the files names of BENEFICIARIES, IN-PATIENT, OUT-PATIENT and TGT_LABELS.\n",
    "    \"\"\"\n",
    "    # Generating the unseen data files names\n",
    "    bene_file_name = os.path.join(files_loc, bene_data)\n",
    "    ip_file_name = os.path.join(files_loc, ip_data)\n",
    "    op_file_name = os.path.join(files_loc, op_data)\n",
    "    tgt_label_name = os.path.join(files_loc, tgt_lbl_data)\n",
    "    return bene_file_name, ip_file_name, op_file_name, tgt_label_name"
   ]
  },
  {
   "cell_type": "code",
   "execution_count": 6,
   "metadata": {
    "execution": {
     "iopub.execute_input": "2022-09-02T11:55:06.983536Z",
     "iopub.status.busy": "2022-09-02T11:55:06.979537Z",
     "iopub.status.idle": "2022-09-02T11:55:07.038545Z",
     "shell.execute_reply": "2022-09-02T11:55:07.036542Z",
     "shell.execute_reply.started": "2022-09-02T11:55:06.983536Z"
    },
    "id": "TwcBKVzcyngm"
   },
   "outputs": [],
   "source": [
    "def read_unseen_data(unseen_data_loc, b_file, i_file, o_file, tgt_file):\n",
    "    \"\"\"\n",
    "    Description : This function is created for reading the data based on the files names of BENEFICIARIES, IN-PATIENT, OUT-PATIENT\n",
    "    and TGT_LABELS.\n",
    "    \"\"\"\n",
    "    # Reading the data files names\n",
    "    bene_unseen_data, ip_unseen_data, op_unseen_data, tgt_lbl_unseen_data = unseen_data_files_names(files_loc=unseen_data_loc,\n",
    "                                                                                                    bene_data=b_file,\n",
    "                                                                                                    ip_data=i_file,\n",
    "                                                                                                    op_data=o_file,\n",
    "                                                                                                    tgt_lbl_data=tgt_file)\n",
    "    # Reading the data files\n",
    "    unseen_bene_df = pd.read_csv(bene_unseen_data)\n",
    "    unseen_ip_df = pd.read_csv(ip_unseen_data)\n",
    "    unseen_op_df = pd.read_csv(op_unseen_data)\n",
    "    unseen_tgt_lbls_df = pd.read_csv(tgt_lbl_unseen_data)\n",
    "    \n",
    "    # Creating a dictionary which will contain all the unseen data files\n",
    "    entire_unseen_data = {\"Unseen_Provider\":unseen_tgt_lbls_df,\n",
    "                          \"Unseen_Beneficiary\":unseen_bene_df,\n",
    "                          \"Unseen_Inpatient\":unseen_ip_df,\n",
    "                          \"Unseen_Outpatient\":unseen_op_df}\n",
    "    return entire_unseen_data"
   ]
  },
  {
   "cell_type": "code",
   "execution_count": 7,
   "metadata": {
    "execution": {
     "iopub.execute_input": "2022-09-02T11:55:07.043551Z",
     "iopub.status.busy": "2022-09-02T11:55:07.042548Z",
     "iopub.status.idle": "2022-09-02T11:55:09.018934Z",
     "shell.execute_reply": "2022-09-02T11:55:09.015941Z",
     "shell.execute_reply.started": "2022-09-02T11:55:07.043551Z"
    },
    "id": "4PUQeRzayngo"
   },
   "outputs": [],
   "source": [
    "# Generating the unseen data dictionary\n",
    "unseen_data_dict = read_unseen_data(unseen_data_loc=data_files_loc,\n",
    "                                    b_file=bene_file,\n",
    "                                    i_file=ip_file,\n",
    "                                    o_file=op_file,\n",
    "                                    tgt_file=tgt_lbl_file)"
   ]
  },
  {
   "cell_type": "code",
   "execution_count": 8,
   "metadata": {
    "execution": {
     "iopub.execute_input": "2022-09-02T11:55:09.034931Z",
     "iopub.status.busy": "2022-09-02T11:55:09.023931Z",
     "iopub.status.idle": "2022-09-02T11:55:09.700564Z",
     "shell.execute_reply": "2022-09-02T11:55:09.698705Z",
     "shell.execute_reply.started": "2022-09-02T11:55:09.034931Z"
    },
    "id": "oxJMIX9Cyngp"
   },
   "outputs": [],
   "source": [
    "def pre_process(X_input):\n",
    "    \"\"\"\n",
    "    Description : This function is created for pre-processing the data files based on the feature engineering performed while training \n",
    "    the best model.\n",
    "    \"\"\" \n",
    "    # Load the unseen data files\n",
    "    test_tgt_lbls_df = X_input['Unseen_Provider']\n",
    "    test_bene_df = X_input['Unseen_Beneficiary']\n",
    "    test_ip_df = X_input['Unseen_Inpatient']\n",
    "    test_op_df = X_input['Unseen_Outpatient']\n",
    "       \n",
    "    # Adding Feature - 1\n",
    "    test_ip_df[\"Admitted?\"] = 1\n",
    "    test_op_df[\"Admitted?\"] = 0\n",
    "\n",
    "    # Commom columns must be 28\n",
    "    common_cols = [col for col in test_ip_df.columns if col in test_op_df.columns]\n",
    "    \n",
    "    # Merging the IP and OP dataset on the basis of common columns\n",
    "    test_ip_op_df = pd.merge(left=test_ip_df, right=test_op_df, left_on=common_cols, right_on=common_cols, how=\"outer\")\n",
    "    \n",
    "    # Joining the IP_OP dataset with the BENE data\n",
    "    test_ip_op_bene_df = pd.merge(left=test_ip_op_df, right=test_bene_df, left_on='BeneID', right_on='BeneID',how='inner')\n",
    "    \n",
    "    # Joining the IP_OP_BENE dataset with the Tgt Label Provider Data\n",
    "    test_iobp_df = pd.merge(left=test_ip_op_bene_df, right=test_tgt_lbls_df, left_on='Provider', right_on='Provider',how='inner')\n",
    "    \n",
    "    # Joining with the PRV Tgt Labels\n",
    "    prvs_claims_df = pd.DataFrame(test_iobp_df.groupby(['Provider'])['ClaimID'].count()).reset_index()\n",
    "    prvs_claims_tgt_lbls_df = pd.merge(left=prvs_claims_df, right=test_tgt_lbls_df, on='Provider', how='inner')\n",
    "    \n",
    "    # Adding Feature - 2\n",
    "    test_iobp_df['DOB'] = pd.to_datetime(test_iobp_df['DOB'], format=\"%Y-%m-%d\")\n",
    "    test_iobp_df['DOD'] = pd.to_datetime(test_iobp_df['DOD'], format=\"%Y-%m-%d\")\n",
    "    test_iobp_df['Is_Alive?'] = test_iobp_df['DOD'].apply(lambda val: 'No' if val != val else 'Yes')\n",
    "\n",
    "    # Adding Feature - 3\n",
    "    test_iobp_df['ClaimStartDt'] = pd.to_datetime(test_iobp_df['ClaimStartDt'], format=\"%Y-%m-%d\")\n",
    "    test_iobp_df['ClaimEndDt'] = pd.to_datetime(test_iobp_df['ClaimEndDt'], format=\"%Y-%m-%d\")\n",
    "    test_iobp_df['Claim_Duration'] = (test_iobp_df['ClaimEndDt'] - test_iobp_df['ClaimStartDt']).dt.days\n",
    "\n",
    "    # Adding Feature - 4\n",
    "    test_iobp_df['AdmissionDt'] = pd.to_datetime(test_iobp_df['AdmissionDt'], format=\"%Y-%m-%d\")\n",
    "    test_iobp_df['DischargeDt'] = pd.to_datetime(test_iobp_df['DischargeDt'], format=\"%Y-%m-%d\")\n",
    "    test_iobp_df['Admitted_Duration'] = (test_iobp_df['DischargeDt'] - test_iobp_df['AdmissionDt']).dt.days\n",
    "\n",
    "    # Adding Feature - 5\n",
    "    # Filling the Null values as MAX Date of Death in the Dataset\n",
    "    test_iobp_df['DOD'].fillna(value=pd.to_datetime('2009-12-01',format ='%Y-%m-%d'), inplace=True)\n",
    "    test_iobp_df['Bene_Age'] = round(((test_iobp_df['DOD'] - test_iobp_df['DOB']).dt.days)/365,1)\n",
    "\n",
    "    # Adding Feature - 6\n",
    "    test_iobp_df['Att_Phy_tot_claims'] = test_iobp_df.groupby(['AttendingPhysician'])['ClaimID'].transform('count')\n",
    "    test_iobp_df['Opr_Phy_tot_claims'] = test_iobp_df.groupby(['OperatingPhysician'])['ClaimID'].transform('count')\n",
    "    test_iobp_df['Oth_Phy_tot_claims'] = test_iobp_df.groupby(['OtherPhysician'])['ClaimID'].transform('count')\n",
    "    test_iobp_df['Att_Phy_tot_claims'].fillna(value=0, inplace=True)\n",
    "    test_iobp_df['Opr_Phy_tot_claims'].fillna(value=0, inplace=True)\n",
    "    test_iobp_df['Oth_Phy_tot_claims'].fillna(value=0, inplace=True)\n",
    "    test_iobp_df['Att_Opr_Oth_Phy_Tot_Claims'] = test_iobp_df['Att_Phy_tot_claims'] + test_iobp_df['Opr_Phy_tot_claims'] + test_iobp_df['Oth_Phy_tot_claims']\n",
    "    test_iobp_df.drop(['Att_Phy_tot_claims', 'Opr_Phy_tot_claims', 'Oth_Phy_tot_claims'], axis=1, inplace=True)\n",
    "\n",
    "    # Adding Feature - 7\n",
    "    test_iobp_df[\"Prv_Tot_Att_Phy\"] = test_iobp_df.groupby(['Provider'])['AttendingPhysician'].transform('count')\n",
    "    test_iobp_df[\"Prv_Tot_Opr_Phy\"] = test_iobp_df.groupby(['Provider'])['OperatingPhysician'].transform('count')\n",
    "    test_iobp_df[\"Prv_Tot_Oth_Phy\"] = test_iobp_df.groupby(['Provider'])['OtherPhysician'].transform('count')\n",
    "    test_iobp_df['Prv_Tot_Att_Phy'].fillna(value=0, inplace=True)\n",
    "    test_iobp_df['Prv_Tot_Opr_Phy'].fillna(value=0, inplace=True)\n",
    "    test_iobp_df['Prv_Tot_Oth_Phy'].fillna(value=0, inplace=True)\n",
    "    test_iobp_df['Prv_Tot_Att_Opr_Oth_Phys'] = test_iobp_df['Prv_Tot_Att_Phy'] + test_iobp_df['Prv_Tot_Opr_Phy'] + test_iobp_df['Prv_Tot_Oth_Phy']\n",
    "    test_iobp_df.drop(['Prv_Tot_Att_Phy', 'Prv_Tot_Opr_Phy', 'Prv_Tot_Oth_Phy'], axis=1, inplace=True)\n",
    "\n",
    "    # Adding Feature - 8\n",
    "    test_iobp_df['PRV_Tot_Admit_DCodes'] = test_iobp_df.groupby(['Provider'])['ClmAdmitDiagnosisCode'].transform('nunique')\n",
    "\n",
    "    # Adding Feature - 9\n",
    "    test_iobp_df['PRV_Tot_DGrpCodes'] = test_iobp_df.groupby(['Provider'])['DiagnosisGroupCode'].transform('nunique')\n",
    "\n",
    "    # Adding Feature - 10\n",
    "    test_iobp_df['DOB_Year'] = test_iobp_df['DOB'].dt.year\n",
    "    test_iobp_df['PRV_Tot_Unq_DOB_Years'] = test_iobp_df.groupby(['Provider'])['DOB_Year'].transform('nunique')\n",
    "    test_iobp_df.drop(['DOB_Year'], axis=1, inplace=True)\n",
    "\n",
    "    # Adding Feature - 11\n",
    "    test_iobp_df['PRV_Bene_Age_Sum'] = test_iobp_df.groupby(['Provider'])['Bene_Age'].transform('sum')\n",
    "\n",
    "    # Adding Feature - 12\n",
    "    test_iobp_df['PRV_Insc_Clm_ReImb_Amt'] = test_iobp_df.groupby(['Provider'])['InscClaimAmtReimbursed'].transform('sum')\n",
    "\n",
    "    # Adding Feature - 13\n",
    "    test_iobp_df['RenalDiseaseIndicator'] = test_iobp_df['RenalDiseaseIndicator'].apply(lambda val: 1 if val == \"Y\" else 0)\n",
    "    test_iobp_df['PRV_Tot_RKD_Patients'] = test_iobp_df.groupby(['Provider'])['RenalDiseaseIndicator'].transform('sum')\n",
    "    test_iobp_df.drop(['NoOfMonths_PartACov', 'NoOfMonths_PartBCov'], axis=1, inplace=True)\n",
    "    test_iobp_df['Admitted_Duration'].fillna(value=0,inplace=True)\n",
    "\n",
    "    # PRV Aggregate features\n",
    "    test_iobp_df[\"PRV_CoPayment\"] = test_iobp_df.groupby('Provider')['DeductibleAmtPaid'].transform('sum')\n",
    "    test_iobp_df[\"PRV_IP_Annual_ReImb_Amt\"] = test_iobp_df.groupby('Provider')['IPAnnualReimbursementAmt'].transform('sum')\n",
    "    test_iobp_df[\"PRV_IP_Annual_Ded_Amt\"] = test_iobp_df.groupby('Provider')['IPAnnualDeductibleAmt'].transform('sum')\n",
    "    test_iobp_df[\"PRV_OP_Annual_ReImb_Amt\"] = test_iobp_df.groupby('Provider')['OPAnnualReimbursementAmt'].transform('sum')\n",
    "    test_iobp_df[\"PRV_OP_Annual_Ded_Amt\"] = test_iobp_df.groupby('Provider')['OPAnnualDeductibleAmt'].transform('sum')\n",
    "    test_iobp_df[\"PRV_Admit_Duration\"] = test_iobp_df.groupby('Provider')['Admitted_Duration'].transform('sum')\n",
    "    test_iobp_df[\"PRV_Claim_Duration\"] = test_iobp_df.groupby('Provider')['Claim_Duration'].transform('sum')\n",
    "\n",
    "    def create_agg_feats(grp_col, feat_name, operation='sum'):\n",
    "        \"\"\"\n",
    "        Description :: This function is created for adding the aggregated features in the dataset for every level like:\n",
    "            - Beneficiary\n",
    "            - Attending Physician\n",
    "            - Operating Physician\n",
    "            - Other Physician and etc..\n",
    "\n",
    "        Input Parameters :: It accepts below inputs:\n",
    "            - grp_col : `str`\n",
    "                - It represents the feature or level at which you want to perform the aggregation.\n",
    "\n",
    "            - feat_name : `str`\n",
    "                - It represents the feature whose aggregated aspect you want to capture.\n",
    "\n",
    "            - operation : `str`\n",
    "                - It represents the aggregation operation you want to perform.(By default it is SUM)\n",
    "        \"\"\"\n",
    "        feat_1 = feat_name + \"_Insc_ReImb_Amt\"\n",
    "        test_iobp_df[feat_1] = test_iobp_df.groupby(grp_col)['InscClaimAmtReimbursed'].transform(operation)\n",
    "\n",
    "        feat_2 = feat_name + \"_CoPayment\"\n",
    "        test_iobp_df[feat_2] = test_iobp_df.groupby(grp_col)['DeductibleAmtPaid'].transform(operation)\n",
    "\n",
    "        feat_3 = feat_name + \"_IP_Annual_ReImb_Amt\"\n",
    "        test_iobp_df[feat_3] = test_iobp_df.groupby(grp_col)['IPAnnualReimbursementAmt'].transform(operation)\n",
    "\n",
    "        feat_4 = feat_name + \"_IP_Annual_Ded_Amt\"\n",
    "        test_iobp_df[feat_4] = test_iobp_df.groupby(grp_col)['IPAnnualDeductibleAmt'].transform(operation)\n",
    "\n",
    "        feat_5 = feat_name + \"_OP_Annual_ReImb_Amt\"\n",
    "        test_iobp_df[feat_5] = test_iobp_df.groupby(grp_col)['OPAnnualReimbursementAmt'].transform(operation)\n",
    "\n",
    "        feat_6 = feat_name + \"_OP_Annual_Ded_Amt\"\n",
    "        test_iobp_df[feat_6] = test_iobp_df.groupby(grp_col)['OPAnnualDeductibleAmt'].transform(operation)\n",
    "\n",
    "        feat_7 = feat_name + \"_Admit_Duration\"\n",
    "        test_iobp_df[feat_7] = test_iobp_df.groupby(grp_col)['Admitted_Duration'].transform(operation)\n",
    "\n",
    "        feat_8 = feat_name + \"_Claim_Duration\"\n",
    "        test_iobp_df[feat_8] = test_iobp_df.groupby(grp_col)['Claim_Duration'].transform(operation)\n",
    "      \n",
    "    # BENE, PHYs, Diagnosis Admit and Group Codes columns\n",
    "    create_agg_feats(grp_col='BeneID', feat_name=\"BENE\")\n",
    "    create_agg_feats(grp_col='AttendingPhysician', feat_name=\"ATT_PHY\")\n",
    "    create_agg_feats(grp_col='OperatingPhysician', feat_name=\"OPT_PHY\")\n",
    "    create_agg_feats(grp_col='OtherPhysician', feat_name=\"OTH_PHY\")\n",
    "    create_agg_feats(grp_col='ClmAdmitDiagnosisCode', feat_name=\"Claim_Admit_Diag_Code\")\n",
    "    create_agg_feats(grp_col='DiagnosisGroupCode', feat_name=\"Diag_GCode\")\n",
    "\n",
    "    # Dropping these 3 columns as there 99% of values are same\n",
    "    test_iobp_df.drop(['ClmProcedureCode_4', 'ClmProcedureCode_5', 'ClmProcedureCode_6'], axis=1, inplace=True)\n",
    "\n",
    "    # Diagnosis Codes columns\n",
    "    create_agg_feats(grp_col='ClmDiagnosisCode_1', feat_name=\"Claim_DiagCode1\")\n",
    "    create_agg_feats(grp_col='ClmDiagnosisCode_2', feat_name=\"Claim_DiagCode2\")\n",
    "    create_agg_feats(grp_col='ClmDiagnosisCode_3', feat_name=\"Claim_DiagCode3\")\n",
    "    create_agg_feats(grp_col='ClmDiagnosisCode_4', feat_name=\"Claim_DiagCode4\")\n",
    "    create_agg_feats(grp_col='ClmDiagnosisCode_5', feat_name=\"Claim_DiagCode5\")\n",
    "    create_agg_feats(grp_col='ClmDiagnosisCode_6', feat_name=\"Claim_DiagCode6\")\n",
    "    create_agg_feats(grp_col='ClmDiagnosisCode_7', feat_name=\"Claim_DiagCode7\")\n",
    "    create_agg_feats(grp_col='ClmDiagnosisCode_8', feat_name=\"Claim_DiagCode8\")\n",
    "    create_agg_feats(grp_col='ClmDiagnosisCode_9', feat_name=\"Claim_DiagCode9\")\n",
    "    create_agg_feats(grp_col='ClmDiagnosisCode_10', feat_name=\"Claim_DiagCode10\")\n",
    "\n",
    "    # Medical Procedure Codes columns\n",
    "    create_agg_feats(grp_col='ClmProcedureCode_1', feat_name=\"Claim_ProcCode1\")\n",
    "    create_agg_feats(grp_col='ClmProcedureCode_2', feat_name=\"Claim_ProcCode2\")\n",
    "    create_agg_feats(grp_col='ClmProcedureCode_3', feat_name=\"Claim_ProcCode3\")\n",
    "\n",
    "    # PROVIDER <--> other features :: To get claim counts\n",
    "    test_iobp_df[\"ClmCount_Provider\"]=test_iobp_df.groupby(['Provider'])['ClaimID'].transform('count')\n",
    "    test_iobp_df[\"ClmCount_Provider_BeneID\"]=test_iobp_df.groupby(['Provider','BeneID'])['ClaimID'].transform('count')\n",
    "    test_iobp_df[\"ClmCount_Provider_AttendingPhysician\"]=test_iobp_df.groupby(['Provider','AttendingPhysician'])['ClaimID'].transform('count')\n",
    "    test_iobp_df[\"ClmCount_Provider_OtherPhysician\"]=test_iobp_df.groupby(['Provider','OtherPhysician'])['ClaimID'].transform('count')\n",
    "    test_iobp_df[\"ClmCount_Provider_OperatingPhysician\"]=test_iobp_df.groupby(['Provider','OperatingPhysician'])['ClaimID'].transform('count')\n",
    "    test_iobp_df[\"ClmCount_Provider_ClmAdmitDiagnosisCode\"]=test_iobp_df.groupby(['Provider','ClmAdmitDiagnosisCode'])['ClaimID'].transform('count')\n",
    "    test_iobp_df[\"ClmCount_Provider_ClmProcedureCode_1\"]=test_iobp_df.groupby(['Provider','ClmProcedureCode_1'])['ClaimID'].transform('count')\n",
    "    test_iobp_df[\"ClmCount_Provider_ClmProcedureCode_2\"]=test_iobp_df.groupby(['Provider','ClmProcedureCode_2'])['ClaimID'].transform('count')\n",
    "    test_iobp_df[\"ClmCount_Provider_ClmProcedureCode_3\"]=test_iobp_df.groupby(['Provider','ClmProcedureCode_3'])['ClaimID'].transform('count')\n",
    "    test_iobp_df[\"ClmCount_Provider_ClmDiagnosisCode_1\"]=test_iobp_df.groupby(['Provider','ClmDiagnosisCode_1'])['ClaimID'].transform('count')\n",
    "    test_iobp_df[\"ClmCount_Provider_ClmDiagnosisCode_2\"]=test_iobp_df.groupby(['Provider','ClmDiagnosisCode_2'])['ClaimID'].transform('count')\n",
    "    test_iobp_df[\"ClmCount_Provider_ClmDiagnosisCode_3\"]=test_iobp_df.groupby(['Provider','ClmDiagnosisCode_3'])['ClaimID'].transform('count')\n",
    "    test_iobp_df[\"ClmCount_Provider_ClmDiagnosisCode_4\"]=test_iobp_df.groupby(['Provider','ClmDiagnosisCode_4'])['ClaimID'].transform('count')\n",
    "    test_iobp_df[\"ClmCount_Provider_ClmDiagnosisCode_5\"]=test_iobp_df.groupby(['Provider','ClmDiagnosisCode_5'])['ClaimID'].transform('count')\n",
    "    test_iobp_df[\"ClmCount_Provider_ClmDiagnosisCode_6\"]=test_iobp_df.groupby(['Provider','ClmDiagnosisCode_6'])['ClaimID'].transform('count')\n",
    "    test_iobp_df[\"ClmCount_Provider_ClmDiagnosisCode_7\"]=test_iobp_df.groupby(['Provider','ClmDiagnosisCode_7'])['ClaimID'].transform('count')\n",
    "    test_iobp_df[\"ClmCount_Provider_ClmDiagnosisCode_8\"]=test_iobp_df.groupby(['Provider','ClmDiagnosisCode_8'])['ClaimID'].transform('count')\n",
    "    test_iobp_df[\"ClmCount_Provider_ClmDiagnosisCode_9\"]=test_iobp_df.groupby(['Provider','ClmDiagnosisCode_9'])['ClaimID'].transform('count')\n",
    "    test_iobp_df[\"ClmCount_Provider_ClmDiagnosisCode_10\"]=test_iobp_df.groupby(['Provider','ClmDiagnosisCode_10'])['ClaimID'].transform('count')\n",
    "    test_iobp_df[\"ClmCount_Provider_DiagnosisGroupCode\"]=test_iobp_df.groupby(['Provider','DiagnosisGroupCode'])['ClaimID'].transform('count')\n",
    "\n",
    "    # PROVIDER <--> BENE <--> PHYSICIANS :: To get claim counts\n",
    "    test_iobp_df[\"ClmCount_Provider_BeneID_AttendingPhysician\"]=test_iobp_df.groupby(['Provider','BeneID','AttendingPhysician'])['ClaimID'].transform('count')\n",
    "    test_iobp_df[\"ClmCount_Provider_BeneID_OtherPhysician\"]=test_iobp_df.groupby(['Provider','BeneID','OtherPhysician'])['ClaimID'].transform('count')\n",
    "    test_iobp_df[\"ClmCount_Provider_BeneID_OperatingPhysician\"]=test_iobp_df.groupby(['Provider','BeneID','OperatingPhysician'])['ClaimID'].transform('count')\n",
    "\n",
    "    # PROVIDER <--> BENE <--> ATTENDING PHYSICIAN <--> PROCEDURE CODES :: To get claim counts\n",
    "    test_iobp_df[\"ClmCount_Provider_BeneID_AttendingPhysician_ClmProcedureCode_1\"]=test_iobp_df.groupby(['Provider','BeneID','AttendingPhysician','ClmProcedureCode_1'])['ClaimID'].transform('count')\n",
    "    test_iobp_df[\"ClmCount_Provider_BeneID_AttendingPhysician_ClmProcedureCode_2\"]=test_iobp_df.groupby(['Provider','BeneID','AttendingPhysician','ClmProcedureCode_2'])['ClaimID'].transform('count')\n",
    "    test_iobp_df[\"ClmCount_Provider_BeneID_AttendingPhysician_ClmProcedureCode_3\"]=test_iobp_df.groupby(['Provider','BeneID','AttendingPhysician','ClmProcedureCode_3'])['ClaimID'].transform('count')\n",
    "\n",
    "    # PROVIDER <--> BENE <--> OPERATING PHYSICIAN <--> PROCEDURE CODES :: To get claim counts\n",
    "    test_iobp_df[\"ClmCount_Provider_BeneID_OperatingPhysician_ClmProcedureCode_1\"]=test_iobp_df.groupby(['Provider','BeneID','OperatingPhysician','ClmProcedureCode_1'])['ClaimID'].transform('count')\n",
    "    test_iobp_df[\"ClmCount_Provider_BeneID_OperatingPhysician_ClmProcedureCode_2\"]=test_iobp_df.groupby(['Provider','BeneID','OperatingPhysician','ClmProcedureCode_2'])['ClaimID'].transform('count')\n",
    "    test_iobp_df[\"ClmCount_Provider_BeneID_OperatingPhysician_ClmProcedureCode_3\"]=test_iobp_df.groupby(['Provider','BeneID','OperatingPhysician','ClmProcedureCode_3'])['ClaimID'].transform('count')\n",
    "\n",
    "    # PROVIDER <--> BENE <--> OTHER PHYSICIAN <--> PROCEDURE CODES :: To get claim counts\n",
    "    test_iobp_df[\"ClmCount_Provider_BeneID_OtherPhysician_ClmProcedureCode_1\"]=test_iobp_df.groupby(['Provider','BeneID','OtherPhysician','ClmProcedureCode_1'])['ClaimID'].transform('count')\n",
    "    test_iobp_df[\"ClmCount_Provider_BeneID_OtherPhysician_ClmProcedureCode_2\"]=test_iobp_df.groupby(['Provider','BeneID','OtherPhysician','ClmProcedureCode_2'])['ClaimID'].transform('count')\n",
    "    test_iobp_df[\"ClmCount_Provider_BeneID_OtherPhysician_ClmProcedureCode_3\"]=test_iobp_df.groupby(['Provider','BeneID','OtherPhysician','ClmProcedureCode_3'])['ClaimID'].transform('count')\n",
    "\n",
    "    # PROVIDER <--> BENE <--> ATTENDING PHYSICIAN <--> DIAGNOSIS CODES :: To get claim counts\n",
    "    test_iobp_df[\"ClmCount_Provider_BeneID_AttendingPhysician_ClmDiagnosisCode_1\"]=test_iobp_df.groupby(['Provider','BeneID','AttendingPhysician','ClmDiagnosisCode_1'])['ClaimID'].transform('count')\n",
    "    test_iobp_df[\"ClmCount_Provider_BeneID_AttendingPhysician_ClmDiagnosisCode_2\"]=test_iobp_df.groupby(['Provider','BeneID','AttendingPhysician','ClmDiagnosisCode_2'])['ClaimID'].transform('count')\n",
    "    test_iobp_df[\"ClmCount_Provider_BeneID_AttendingPhysician_ClmDiagnosisCode_3\"]=test_iobp_df.groupby(['Provider','BeneID','AttendingPhysician','ClmDiagnosisCode_3'])['ClaimID'].transform('count')\n",
    "    test_iobp_df[\"ClmCount_Provider_BeneID_AttendingPhysician_ClmDiagnosisCode_4\"]=test_iobp_df.groupby(['Provider','BeneID','AttendingPhysician','ClmDiagnosisCode_4'])['ClaimID'].transform('count')\n",
    "    test_iobp_df[\"ClmCount_Provider_BeneID_AttendingPhysician_ClmDiagnosisCode_5\"]=test_iobp_df.groupby(['Provider','BeneID','AttendingPhysician','ClmDiagnosisCode_5'])['ClaimID'].transform('count')\n",
    "    test_iobp_df[\"ClmCount_Provider_BeneID_AttendingPhysician_ClmDiagnosisCode_6\"]=test_iobp_df.groupby(['Provider','BeneID','AttendingPhysician','ClmDiagnosisCode_6'])['ClaimID'].transform('count')\n",
    "    test_iobp_df[\"ClmCount_Provider_BeneID_AttendingPhysician_ClmDiagnosisCode_7\"]=test_iobp_df.groupby(['Provider','BeneID','AttendingPhysician','ClmDiagnosisCode_7'])['ClaimID'].transform('count')\n",
    "    test_iobp_df[\"ClmCount_Provider_BeneID_AttendingPhysician_ClmDiagnosisCode_8\"]=test_iobp_df.groupby(['Provider','BeneID','AttendingPhysician','ClmDiagnosisCode_8'])['ClaimID'].transform('count')\n",
    "    test_iobp_df[\"ClmCount_Provider_BeneID_AttendingPhysician_ClmDiagnosisCode_9\"]=test_iobp_df.groupby(['Provider','BeneID','AttendingPhysician','ClmDiagnosisCode_9'])['ClaimID'].transform('count')\n",
    "    test_iobp_df[\"ClmCount_Provider_BeneID_AttendingPhysician_ClmDiagnosisCode_10\"]=test_iobp_df.groupby(['Provider','BeneID','AttendingPhysician','ClmDiagnosisCode_10'])['ClaimID'].transform('count')\n",
    "\n",
    "    # PROVIDER <--> BENE <--> OPERATING PHYSICIAN <--> DIAGNOSIS CODES :: To get claim counts\n",
    "    test_iobp_df[\"ClmCount_Provider_BeneID_OperatingPhysician_ClmDiagnosisCode_1\"]=test_iobp_df.groupby(['Provider','BeneID','OperatingPhysician','ClmDiagnosisCode_1'])['ClaimID'].transform('count')\n",
    "    test_iobp_df[\"ClmCount_Provider_BeneID_OperatingPhysician_ClmDiagnosisCode_2\"]=test_iobp_df.groupby(['Provider','BeneID','OperatingPhysician','ClmDiagnosisCode_2'])['ClaimID'].transform('count')\n",
    "    test_iobp_df[\"ClmCount_Provider_BeneID_OperatingPhysician_ClmDiagnosisCode_3\"]=test_iobp_df.groupby(['Provider','BeneID','OperatingPhysician','ClmDiagnosisCode_3'])['ClaimID'].transform('count')\n",
    "    test_iobp_df[\"ClmCount_Provider_BeneID_OperatingPhysician_ClmDiagnosisCode_4\"]=test_iobp_df.groupby(['Provider','BeneID','OperatingPhysician','ClmDiagnosisCode_4'])['ClaimID'].transform('count')\n",
    "    test_iobp_df[\"ClmCount_Provider_BeneID_OperatingPhysician_ClmDiagnosisCode_5\"]=test_iobp_df.groupby(['Provider','BeneID','OperatingPhysician','ClmDiagnosisCode_5'])['ClaimID'].transform('count')\n",
    "    test_iobp_df[\"ClmCount_Provider_BeneID_OperatingPhysician_ClmDiagnosisCode_6\"]=test_iobp_df.groupby(['Provider','BeneID','OperatingPhysician','ClmDiagnosisCode_6'])['ClaimID'].transform('count')\n",
    "    test_iobp_df[\"ClmCount_Provider_BeneID_OperatingPhysician_ClmDiagnosisCode_7\"]=test_iobp_df.groupby(['Provider','BeneID','OperatingPhysician','ClmDiagnosisCode_7'])['ClaimID'].transform('count')\n",
    "    test_iobp_df[\"ClmCount_Provider_BeneID_OperatingPhysician_ClmDiagnosisCode_8\"]=test_iobp_df.groupby(['Provider','BeneID','OperatingPhysician','ClmDiagnosisCode_8'])['ClaimID'].transform('count')\n",
    "    test_iobp_df[\"ClmCount_Provider_BeneID_OperatingPhysician_ClmDiagnosisCode_9\"]=test_iobp_df.groupby(['Provider','BeneID','OperatingPhysician','ClmDiagnosisCode_9'])['ClaimID'].transform('count')\n",
    "    test_iobp_df[\"ClmCount_Provider_BeneID_OperatingPhysician_ClmDiagnosisCode_10\"]=test_iobp_df.groupby(['Provider','BeneID','OperatingPhysician','ClmDiagnosisCode_10'])['ClaimID'].transform('count')\n",
    "\n",
    "    # PROVIDER <--> BENE <--> OTHER PHYSICIAN <--> DIAGNOSIS CODES :: To get claim counts\n",
    "    test_iobp_df[\"ClmCount_Provider_BeneID_OtherPhysician_ClmDiagnosisCode_1\"]=test_iobp_df.groupby(['Provider','BeneID','OtherPhysician','ClmDiagnosisCode_1'])['ClaimID'].transform('count')\n",
    "    test_iobp_df[\"ClmCount_Provider_BeneID_OtherPhysician_ClmDiagnosisCode_2\"]=test_iobp_df.groupby(['Provider','BeneID','OtherPhysician','ClmDiagnosisCode_2'])['ClaimID'].transform('count')\n",
    "    test_iobp_df[\"ClmCount_Provider_BeneID_OtherPhysician_ClmDiagnosisCode_3\"]=test_iobp_df.groupby(['Provider','BeneID','OtherPhysician','ClmDiagnosisCode_3'])['ClaimID'].transform('count')\n",
    "    test_iobp_df[\"ClmCount_Provider_BeneID_OtherPhysician_ClmDiagnosisCode_4\"]=test_iobp_df.groupby(['Provider','BeneID','OtherPhysician','ClmDiagnosisCode_4'])['ClaimID'].transform('count')\n",
    "    test_iobp_df[\"ClmCount_Provider_BeneID_OtherPhysician_ClmDiagnosisCode_5\"]=test_iobp_df.groupby(['Provider','BeneID','OtherPhysician','ClmDiagnosisCode_5'])['ClaimID'].transform('count')\n",
    "    test_iobp_df[\"ClmCount_Provider_BeneID_OtherPhysician_ClmDiagnosisCode_6\"]=test_iobp_df.groupby(['Provider','BeneID','OtherPhysician','ClmDiagnosisCode_6'])['ClaimID'].transform('count')\n",
    "    test_iobp_df[\"ClmCount_Provider_BeneID_OtherPhysician_ClmDiagnosisCode_7\"]=test_iobp_df.groupby(['Provider','BeneID','OtherPhysician','ClmDiagnosisCode_7'])['ClaimID'].transform('count')\n",
    "    test_iobp_df[\"ClmCount_Provider_BeneID_OtherPhysician_ClmDiagnosisCode_8\"]=test_iobp_df.groupby(['Provider','BeneID','OtherPhysician','ClmDiagnosisCode_8'])['ClaimID'].transform('count')\n",
    "    test_iobp_df[\"ClmCount_Provider_BeneID_OtherPhysician_ClmDiagnosisCode_9\"]=test_iobp_df.groupby(['Provider','BeneID','OtherPhysician','ClmDiagnosisCode_9'])['ClaimID'].transform('count')\n",
    "    test_iobp_df[\"ClmCount_Provider_BeneID_OtherPhysician_ClmDiagnosisCode_10\"]=test_iobp_df.groupby(['Provider','BeneID','OtherPhysician','ClmDiagnosisCode_10'])['ClaimID'].transform('count')\n",
    "\n",
    "    # PROVIDER <--> BENE <--> PROCEDURE CODES :: To get claim counts\n",
    "    test_iobp_df[\"ClmCount_Provider_BeneID_ClmProcedureCode_1\"]=test_iobp_df.groupby(['Provider','BeneID','ClmProcedureCode_1'])['ClaimID'].transform('count')\n",
    "    test_iobp_df[\"ClmCount_Provider_BeneID_ClmProcedureCode_2\"]=test_iobp_df.groupby(['Provider','BeneID','ClmProcedureCode_2'])['ClaimID'].transform('count')\n",
    "    test_iobp_df[\"ClmCount_Provider_BeneID_ClmProcedureCode_3\"]=test_iobp_df.groupby(['Provider','BeneID','ClmProcedureCode_3'])['ClaimID'].transform('count')\n",
    "\n",
    "    # PROVIDER <--> BENE <--> DIAGNOSIS CODES :: To get claim counts\n",
    "    test_iobp_df[\"ClmCount_Provider_BeneID_ClmDiagnosisCode_1\"]=test_iobp_df.groupby(['Provider','BeneID','ClmDiagnosisCode_1'])['ClaimID'].transform('count')\n",
    "    test_iobp_df[\"ClmCount_Provider_BeneID_ClmDiagnosisCode_2\"]=test_iobp_df.groupby(['Provider','BeneID','ClmDiagnosisCode_2'])['ClaimID'].transform('count')\n",
    "    test_iobp_df[\"ClmCount_Provider_BeneID_ClmDiagnosisCode_3\"]=test_iobp_df.groupby(['Provider','BeneID','ClmDiagnosisCode_3'])['ClaimID'].transform('count')\n",
    "    test_iobp_df[\"ClmCount_Provider_BeneID_ClmDiagnosisCode_4\"]=test_iobp_df.groupby(['Provider','BeneID','ClmDiagnosisCode_4'])['ClaimID'].transform('count')\n",
    "    test_iobp_df[\"ClmCount_Provider_BeneID_ClmDiagnosisCode_5\"]=test_iobp_df.groupby(['Provider','BeneID','ClmDiagnosisCode_5'])['ClaimID'].transform('count')\n",
    "    test_iobp_df[\"ClmCount_Provider_BeneID_ClmDiagnosisCode_6\"]=test_iobp_df.groupby(['Provider','BeneID','ClmDiagnosisCode_6'])['ClaimID'].transform('count')\n",
    "    test_iobp_df[\"ClmCount_Provider_BeneID_ClmDiagnosisCode_7\"]=test_iobp_df.groupby(['Provider','BeneID','ClmDiagnosisCode_7'])['ClaimID'].transform('count')\n",
    "    test_iobp_df[\"ClmCount_Provider_BeneID_ClmDiagnosisCode_8\"]=test_iobp_df.groupby(['Provider','BeneID','ClmDiagnosisCode_8'])['ClaimID'].transform('count')\n",
    "    test_iobp_df[\"ClmCount_Provider_BeneID_ClmDiagnosisCode_9\"]=test_iobp_df.groupby(['Provider','BeneID','ClmDiagnosisCode_9'])['ClaimID'].transform('count')\n",
    "    test_iobp_df[\"ClmCount_Provider_BeneID_ClmDiagnosisCode_10\"]=test_iobp_df.groupby(['Provider','BeneID','ClmDiagnosisCode_10'])['ClaimID'].transform('count')\n",
    "\n",
    "    # PROVIDER <--> BENE <--> DIAGNOSIS CODES <--> PROCEDURE CODES :: To get claim counts\n",
    "    test_iobp_df[\"ClmCount_Provider_BeneID_ClmDiagnosisCode_1_ClmProcedureCode_1\"]=test_iobp_df.groupby(['Provider','BeneID','ClmDiagnosisCode_1','ClmProcedureCode_1'])['ClaimID'].transform('count')\n",
    "    test_iobp_df[\"ClmCount_Provider_BeneID_ClmDiagnosisCode_1_ClmProcedureCode_2\"]=test_iobp_df.groupby(['Provider','BeneID','ClmDiagnosisCode_1','ClmProcedureCode_2'])['ClaimID'].transform('count')\n",
    "    test_iobp_df[\"ClmCount_Provider_BeneID_ClmDiagnosisCode_1_ClmProcedureCode_3\"]=test_iobp_df.groupby(['Provider','BeneID','ClmDiagnosisCode_1','ClmProcedureCode_3'])['ClaimID'].transform('count')\n",
    "    test_iobp_df[\"ClmCount_Provider_BeneID_ClmDiagnosisCode_2_ClmProcedureCode_1\"]=test_iobp_df.groupby(['Provider','BeneID','ClmDiagnosisCode_2','ClmProcedureCode_1'])['ClaimID'].transform('count')\n",
    "    test_iobp_df[\"ClmCount_Provider_BeneID_ClmDiagnosisCode_2_ClmProcedureCode_2\"]=test_iobp_df.groupby(['Provider','BeneID','ClmDiagnosisCode_2','ClmProcedureCode_2'])['ClaimID'].transform('count')\n",
    "    test_iobp_df[\"ClmCount_Provider_BeneID_ClmDiagnosisCode_2_ClmProcedureCode_3\"]=test_iobp_df.groupby(['Provider','BeneID','ClmDiagnosisCode_2','ClmProcedureCode_3'])['ClaimID'].transform('count')\n",
    "    test_iobp_df[\"ClmCount_Provider_BeneID_ClmDiagnosisCode_3_ClmProcedureCode_1\"]=test_iobp_df.groupby(['Provider','BeneID','ClmDiagnosisCode_3','ClmProcedureCode_1'])['ClaimID'].transform('count')\n",
    "    test_iobp_df[\"ClmCount_Provider_BeneID_ClmDiagnosisCode_3_ClmProcedureCode_2\"]=test_iobp_df.groupby(['Provider','BeneID','ClmDiagnosisCode_3','ClmProcedureCode_2'])['ClaimID'].transform('count')\n",
    "    test_iobp_df[\"ClmCount_Provider_BeneID_ClmDiagnosisCode_3_ClmProcedureCode_3\"]=test_iobp_df.groupby(['Provider','BeneID','ClmDiagnosisCode_3','ClmProcedureCode_3'])['ClaimID'].transform('count')\n",
    "    test_iobp_df[\"ClmCount_Provider_BeneID_ClmDiagnosisCode_4_ClmProcedureCode_1\"]=test_iobp_df.groupby(['Provider','BeneID','ClmDiagnosisCode_4','ClmProcedureCode_1'])['ClaimID'].transform('count')\n",
    "    test_iobp_df[\"ClmCount_Provider_BeneID_ClmDiagnosisCode_4_ClmProcedureCode_2\"]=test_iobp_df.groupby(['Provider','BeneID','ClmDiagnosisCode_4','ClmProcedureCode_2'])['ClaimID'].transform('count')\n",
    "    test_iobp_df[\"ClmCount_Provider_BeneID_ClmDiagnosisCode_4_ClmProcedureCode_3\"]=test_iobp_df.groupby(['Provider','BeneID','ClmDiagnosisCode_4','ClmProcedureCode_3'])['ClaimID'].transform('count')\n",
    "    test_iobp_df[\"ClmCount_Provider_BeneID_ClmDiagnosisCode_5_ClmProcedureCode_1\"]=test_iobp_df.groupby(['Provider','BeneID','ClmDiagnosisCode_5','ClmProcedureCode_1'])['ClaimID'].transform('count')\n",
    "    test_iobp_df[\"ClmCount_Provider_BeneID_ClmDiagnosisCode_5_ClmProcedureCode_2\"]=test_iobp_df.groupby(['Provider','BeneID','ClmDiagnosisCode_5','ClmProcedureCode_2'])['ClaimID'].transform('count')\n",
    "    test_iobp_df[\"ClmCount_Provider_BeneID_ClmDiagnosisCode_5_ClmProcedureCode_3\"]=test_iobp_df.groupby(['Provider','BeneID','ClmDiagnosisCode_5','ClmProcedureCode_3'])['ClaimID'].transform('count')\n",
    "    test_iobp_df[\"ClmCount_Provider_BeneID_ClmDiagnosisCode_6_ClmProcedureCode_1\"]=test_iobp_df.groupby(['Provider','BeneID','ClmDiagnosisCode_6','ClmProcedureCode_1'])['ClaimID'].transform('count')\n",
    "    test_iobp_df[\"ClmCount_Provider_BeneID_ClmDiagnosisCode_6_ClmProcedureCode_2\"]=test_iobp_df.groupby(['Provider','BeneID','ClmDiagnosisCode_6','ClmProcedureCode_2'])['ClaimID'].transform('count')\n",
    "    test_iobp_df[\"ClmCount_Provider_BeneID_ClmDiagnosisCode_6_ClmProcedureCode_3\"]=test_iobp_df.groupby(['Provider','BeneID','ClmDiagnosisCode_6','ClmProcedureCode_3'])['ClaimID'].transform('count')\n",
    "    test_iobp_df[\"ClmCount_Provider_BeneID_ClmDiagnosisCode_7_ClmProcedureCode_1\"]=test_iobp_df.groupby(['Provider','BeneID','ClmDiagnosisCode_7','ClmProcedureCode_1'])['ClaimID'].transform('count')\n",
    "    test_iobp_df[\"ClmCount_Provider_BeneID_ClmDiagnosisCode_7_ClmProcedureCode_2\"]=test_iobp_df.groupby(['Provider','BeneID','ClmDiagnosisCode_7','ClmProcedureCode_2'])['ClaimID'].transform('count')\n",
    "    test_iobp_df[\"ClmCount_Provider_BeneID_ClmDiagnosisCode_7_ClmProcedureCode_3\"]=test_iobp_df.groupby(['Provider','BeneID','ClmDiagnosisCode_7','ClmProcedureCode_3'])['ClaimID'].transform('count')\n",
    "    test_iobp_df[\"ClmCount_Provider_BeneID_ClmDiagnosisCode_8_ClmProcedureCode_1\"]=test_iobp_df.groupby(['Provider','BeneID','ClmDiagnosisCode_8','ClmProcedureCode_1'])['ClaimID'].transform('count')\n",
    "    test_iobp_df[\"ClmCount_Provider_BeneID_ClmDiagnosisCode_8_ClmProcedureCode_2\"]=test_iobp_df.groupby(['Provider','BeneID','ClmDiagnosisCode_8','ClmProcedureCode_2'])['ClaimID'].transform('count')\n",
    "    test_iobp_df[\"ClmCount_Provider_BeneID_ClmDiagnosisCode_8_ClmProcedureCode_3\"]=test_iobp_df.groupby(['Provider','BeneID','ClmDiagnosisCode_8','ClmProcedureCode_3'])['ClaimID'].transform('count')\n",
    "    test_iobp_df[\"ClmCount_Provider_BeneID_ClmDiagnosisCode_9_ClmProcedureCode_1\"]=test_iobp_df.groupby(['Provider','BeneID','ClmDiagnosisCode_9','ClmProcedureCode_1'])['ClaimID'].transform('count')\n",
    "    test_iobp_df[\"ClmCount_Provider_BeneID_ClmDiagnosisCode_9_ClmProcedureCode_2\"]=test_iobp_df.groupby(['Provider','BeneID','ClmDiagnosisCode_9','ClmProcedureCode_2'])['ClaimID'].transform('count')\n",
    "    test_iobp_df[\"ClmCount_Provider_BeneID_ClmDiagnosisCode_9_ClmProcedureCode_3\"]=test_iobp_df.groupby(['Provider','BeneID','ClmDiagnosisCode_9','ClmProcedureCode_3'])['ClaimID'].transform('count')\n",
    "    test_iobp_df[\"ClmCount_Provider_BeneID_ClmDiagnosisCode_10_ClmProcedureCode_1\"]=test_iobp_df.groupby(['Provider','BeneID','ClmDiagnosisCode_10','ClmProcedureCode_1'])['ClaimID'].transform('count')\n",
    "    test_iobp_df[\"ClmCount_Provider_BeneID_ClmDiagnosisCode_10_ClmProcedureCode_2\"]=test_iobp_df.groupby(['Provider','BeneID','ClmDiagnosisCode_10','ClmProcedureCode_2'])['ClaimID'].transform('count')\n",
    "    test_iobp_df[\"ClmCount_Provider_BeneID_ClmDiagnosisCode_10_ClmProcedureCode_3\"]=test_iobp_df.groupby(['Provider','BeneID','ClmDiagnosisCode_10','ClmProcedureCode_3'])['ClaimID'].transform('count')\n",
    "\n",
    "    # Removing unwanted columns\n",
    "    remove_unwanted_columns=['BeneID', 'ClaimID', 'ClaimStartDt','ClaimEndDt','AttendingPhysician','OperatingPhysician', 'OtherPhysician',\n",
    "                          'AdmissionDt', 'ClmAdmitDiagnosisCode', 'DischargeDt', 'DiagnosisGroupCode',\n",
    "                          'ClmDiagnosisCode_1', 'ClmDiagnosisCode_2', 'ClmDiagnosisCode_3', 'ClmDiagnosisCode_4', 'ClmDiagnosisCode_5', \n",
    "                          'ClmDiagnosisCode_6', 'ClmDiagnosisCode_7', 'ClmDiagnosisCode_8', 'ClmDiagnosisCode_9', 'ClmDiagnosisCode_10',\n",
    "                          'ClmProcedureCode_1', 'ClmProcedureCode_2', 'ClmProcedureCode_3', 'DOB', 'DOD', 'State', 'County']\n",
    "\n",
    "    test_iobp_df.drop(columns=remove_unwanted_columns, axis=1, inplace=True)\n",
    "\n",
    "    # Filling Nulls in Deductible Amt Paid by Patient\n",
    "    test_iobp_df['DeductibleAmtPaid'].fillna(value=0, inplace=True)\n",
    "\n",
    "    # Binary encoding the categorical features --> 0 means No and 1 means Yes\n",
    "    test_iobp_df['Gender'] = test_iobp_df['Gender'].apply(lambda val: 0 if val == 2 else val)\n",
    "    test_iobp_df['Is_Alive?'] = test_iobp_df['Is_Alive?'].apply(lambda val: 0 if val == \"No\" else 1)\n",
    "\n",
    "    test_iobp_df['ChronicCond_Alzheimer'] = test_iobp_df['ChronicCond_Alzheimer'].apply(lambda val: 0 if val == 2 else val)\n",
    "    test_iobp_df['ChronicCond_Heartfailure'] = test_iobp_df['ChronicCond_Heartfailure'].apply(lambda val: 0 if val == 2 else val)\n",
    "    test_iobp_df['ChronicCond_KidneyDisease'] = test_iobp_df['ChronicCond_KidneyDisease'].apply(lambda val: 0 if val == 2 else val)\n",
    "    test_iobp_df['ChronicCond_Cancer'] = test_iobp_df['ChronicCond_Cancer'].apply(lambda val: 0 if val == 2 else val)\n",
    "    test_iobp_df['ChronicCond_ObstrPulmonary'] = test_iobp_df['ChronicCond_ObstrPulmonary'].apply(lambda val: 0 if val == 2 else val)\n",
    "    test_iobp_df['ChronicCond_Depression'] = test_iobp_df['ChronicCond_Depression'].apply(lambda val: 0 if val == 2 else val)\n",
    "    test_iobp_df['ChronicCond_Diabetes'] = test_iobp_df['ChronicCond_Diabetes'].apply(lambda val: 0 if val == 2 else val)\n",
    "    test_iobp_df['ChronicCond_IschemicHeart'] = test_iobp_df['ChronicCond_IschemicHeart'].apply(lambda val: 0 if val == 2 else val)\n",
    "    test_iobp_df['ChronicCond_Osteoporasis'] = test_iobp_df['ChronicCond_Osteoporasis'].apply(lambda val: 0 if val == 2 else val)\n",
    "    test_iobp_df['ChronicCond_rheumatoidarthritis'] = test_iobp_df['ChronicCond_rheumatoidarthritis'].apply(lambda val: 0 if val == 2 else val)\n",
    "    test_iobp_df['ChronicCond_stroke'] = test_iobp_df['ChronicCond_stroke'].apply(lambda val: 0 if val == 2 else val)\n",
    "\n",
    "    # Encoding the Categorical features\n",
    "    test_iobp_df = pd.get_dummies(test_iobp_df,columns=['Gender', 'Race', 'Admitted?', 'Is_Alive?'], drop_first=True)\n",
    "\n",
    "    # Filling Nulls in the aggregated features\n",
    "    test_iobp_df.fillna(value=0, inplace=True)\n",
    "\n",
    "    # Grouping the records\n",
    "    test_iobp_df = test_iobp_df.groupby(['Provider'],as_index=False).agg('sum')\n",
    "\n",
    "    # Segregating the sets\n",
    "    X_unseen = test_iobp_df.drop(axis=1, columns=['Provider'])\n",
    "    y_unseen_prvs = test_iobp_df['Provider']\n",
    "\n",
    "    return X_unseen, y_unseen_prvs"
   ]
  },
  {
   "cell_type": "code",
   "execution_count": 9,
   "metadata": {
    "execution": {
     "iopub.execute_input": "2022-09-02T11:55:09.708565Z",
     "iopub.status.busy": "2022-09-02T11:55:09.707565Z",
     "iopub.status.idle": "2022-09-02T11:55:57.813033Z",
     "shell.execute_reply": "2022-09-02T11:55:57.810032Z",
     "shell.execute_reply.started": "2022-09-02T11:55:09.708565Z"
    },
    "id": "7W7Aiknqyngx"
   },
   "outputs": [],
   "source": [
    "X_unseen_pp, y_unseen_pp = pre_process(unseen_data_dict)"
   ]
  },
  {
   "cell_type": "code",
   "execution_count": 10,
   "metadata": {
    "execution": {
     "iopub.execute_input": "2022-09-02T11:55:57.817034Z",
     "iopub.status.busy": "2022-09-02T11:55:57.816035Z",
     "iopub.status.idle": "2022-09-02T11:55:57.843035Z",
     "shell.execute_reply": "2022-09-02T11:55:57.841039Z",
     "shell.execute_reply.started": "2022-09-02T11:55:57.817034Z"
    },
    "id": "ac_7YDkcyngy",
    "outputId": "eb83fe9e-2362-4437-884d-e0f808a8e189"
   },
   "outputs": [
    {
     "data": {
      "text/plain": [
       "((1353, 299), (1353,))"
      ]
     },
     "execution_count": 10,
     "metadata": {},
     "output_type": "execute_result"
    }
   ],
   "source": [
    "# Checking shape of unseen data after pre-processing it should have 299 features\n",
    "X_unseen_pp.shape, y_unseen_pp.shape"
   ]
  },
  {
   "cell_type": "code",
   "execution_count": 11,
   "metadata": {
    "execution": {
     "iopub.execute_input": "2022-09-02T11:56:06.938983Z",
     "iopub.status.busy": "2022-09-02T11:56:06.937985Z",
     "iopub.status.idle": "2022-09-02T11:56:07.893151Z",
     "shell.execute_reply": "2022-09-02T11:56:07.891155Z",
     "shell.execute_reply.started": "2022-09-02T11:56:06.938983Z"
    }
   },
   "outputs": [],
   "source": [
    "X_unseen_pp.to_csv(\"X_unseen_pp.csv\")\n",
    "y_unseen_pp.to_csv(\"y_unseen_pp.csv\")"
   ]
  },
  {
   "cell_type": "code",
   "execution_count": 16,
   "metadata": {
    "execution": {
     "iopub.execute_input": "2022-09-02T11:56:54.482273Z",
     "iopub.status.busy": "2022-09-02T11:56:54.481278Z",
     "iopub.status.idle": "2022-09-02T11:56:54.522274Z",
     "shell.execute_reply": "2022-09-02T11:56:54.520275Z",
     "shell.execute_reply.started": "2022-09-02T11:56:54.482273Z"
    }
   },
   "outputs": [
    {
     "data": {
      "text/html": [
       "<div>\n",
       "<style scoped>\n",
       "    .dataframe tbody tr th:only-of-type {\n",
       "        vertical-align: middle;\n",
       "    }\n",
       "\n",
       "    .dataframe tbody tr th {\n",
       "        vertical-align: top;\n",
       "    }\n",
       "\n",
       "    .dataframe thead th {\n",
       "        text-align: right;\n",
       "    }\n",
       "</style>\n",
       "<table border=\"1\" class=\"dataframe\">\n",
       "  <thead>\n",
       "    <tr style=\"text-align: right;\">\n",
       "      <th></th>\n",
       "      <th>Provider</th>\n",
       "    </tr>\n",
       "  </thead>\n",
       "  <tbody>\n",
       "    <tr>\n",
       "      <th>0</th>\n",
       "      <td>PRV51002</td>\n",
       "    </tr>\n",
       "    <tr>\n",
       "      <th>1</th>\n",
       "      <td>PRV51006</td>\n",
       "    </tr>\n",
       "    <tr>\n",
       "      <th>2</th>\n",
       "      <td>PRV51009</td>\n",
       "    </tr>\n",
       "    <tr>\n",
       "      <th>3</th>\n",
       "      <td>PRV51010</td>\n",
       "    </tr>\n",
       "    <tr>\n",
       "      <th>4</th>\n",
       "      <td>PRV51018</td>\n",
       "    </tr>\n",
       "    <tr>\n",
       "      <th>...</th>\n",
       "      <td>...</td>\n",
       "    </tr>\n",
       "    <tr>\n",
       "      <th>1348</th>\n",
       "      <td>PRV57713</td>\n",
       "    </tr>\n",
       "    <tr>\n",
       "      <th>1349</th>\n",
       "      <td>PRV57726</td>\n",
       "    </tr>\n",
       "    <tr>\n",
       "      <th>1350</th>\n",
       "      <td>PRV57745</td>\n",
       "    </tr>\n",
       "    <tr>\n",
       "      <th>1351</th>\n",
       "      <td>PRV57749</td>\n",
       "    </tr>\n",
       "    <tr>\n",
       "      <th>1352</th>\n",
       "      <td>PRV57750</td>\n",
       "    </tr>\n",
       "  </tbody>\n",
       "</table>\n",
       "<p>1353 rows × 1 columns</p>\n",
       "</div>"
      ],
      "text/plain": [
       "      Provider\n",
       "0     PRV51002\n",
       "1     PRV51006\n",
       "2     PRV51009\n",
       "3     PRV51010\n",
       "4     PRV51018\n",
       "...        ...\n",
       "1348  PRV57713\n",
       "1349  PRV57726\n",
       "1350  PRV57745\n",
       "1351  PRV57749\n",
       "1352  PRV57750\n",
       "\n",
       "[1353 rows x 1 columns]"
      ]
     },
     "execution_count": 16,
     "metadata": {},
     "output_type": "execute_result"
    }
   ],
   "source": [
    "pd.read_csv(\"y_unseen_pp.csv\", index_col=0)"
   ]
  },
  {
   "cell_type": "code",
   "execution_count": 32,
   "metadata": {
    "execution": {
     "iopub.execute_input": "2022-09-02T12:33:05.241664Z",
     "iopub.status.busy": "2022-09-02T12:33:05.239668Z",
     "iopub.status.idle": "2022-09-02T12:33:05.386664Z",
     "shell.execute_reply": "2022-09-02T12:33:05.384662Z",
     "shell.execute_reply.started": "2022-09-02T12:33:05.241664Z"
    },
    "id": "WdWTib4Fyngz"
   },
   "outputs": [],
   "source": [
    "# Loading the best model\n",
    "rfc_3 = joblib.load('best_model.pkl')"
   ]
  },
  {
   "cell_type": "code",
   "execution_count": 33,
   "metadata": {
    "execution": {
     "iopub.execute_input": "2022-09-02T12:33:05.394666Z",
     "iopub.status.busy": "2022-09-02T12:33:05.390666Z",
     "iopub.status.idle": "2022-09-02T12:33:05.448691Z",
     "shell.execute_reply": "2022-09-02T12:33:05.446662Z",
     "shell.execute_reply.started": "2022-09-02T12:33:05.393665Z"
    },
    "id": "uUDPeMDGyng1"
   },
   "outputs": [],
   "source": [
    "# Making the predictions on the unseen data\n",
    "unseen_preds = rfc_3.predict(X_unseen_pp)"
   ]
  },
  {
   "cell_type": "code",
   "execution_count": 39,
   "metadata": {
    "execution": {
     "iopub.execute_input": "2022-09-02T12:35:20.455051Z",
     "iopub.status.busy": "2022-09-02T12:35:20.454047Z",
     "iopub.status.idle": "2022-09-02T12:35:20.519046Z",
     "shell.execute_reply": "2022-09-02T12:35:20.516055Z",
     "shell.execute_reply.started": "2022-09-02T12:35:20.455051Z"
    }
   },
   "outputs": [
    {
     "data": {
      "text/html": [
       "<div>\n",
       "<style scoped>\n",
       "    .dataframe tbody tr th:only-of-type {\n",
       "        vertical-align: middle;\n",
       "    }\n",
       "\n",
       "    .dataframe tbody tr th {\n",
       "        vertical-align: top;\n",
       "    }\n",
       "\n",
       "    .dataframe thead th {\n",
       "        text-align: right;\n",
       "    }\n",
       "</style>\n",
       "<table border=\"1\" class=\"dataframe\">\n",
       "  <thead>\n",
       "    <tr style=\"text-align: right;\">\n",
       "      <th></th>\n",
       "      <th>Class_0</th>\n",
       "      <th>Class_1</th>\n",
       "    </tr>\n",
       "  </thead>\n",
       "  <tbody>\n",
       "    <tr>\n",
       "      <th>0</th>\n",
       "      <td>0.088072</td>\n",
       "      <td>0.911928</td>\n",
       "    </tr>\n",
       "    <tr>\n",
       "      <th>1</th>\n",
       "      <td>0.273612</td>\n",
       "      <td>0.726388</td>\n",
       "    </tr>\n",
       "    <tr>\n",
       "      <th>2</th>\n",
       "      <td>0.107149</td>\n",
       "      <td>0.892851</td>\n",
       "    </tr>\n",
       "    <tr>\n",
       "      <th>3</th>\n",
       "      <td>0.077191</td>\n",
       "      <td>0.922809</td>\n",
       "    </tr>\n",
       "    <tr>\n",
       "      <th>4</th>\n",
       "      <td>0.084086</td>\n",
       "      <td>0.915914</td>\n",
       "    </tr>\n",
       "    <tr>\n",
       "      <th>...</th>\n",
       "      <td>...</td>\n",
       "      <td>...</td>\n",
       "    </tr>\n",
       "    <tr>\n",
       "      <th>1348</th>\n",
       "      <td>0.803848</td>\n",
       "      <td>0.196152</td>\n",
       "    </tr>\n",
       "    <tr>\n",
       "      <th>1349</th>\n",
       "      <td>0.708234</td>\n",
       "      <td>0.291766</td>\n",
       "    </tr>\n",
       "    <tr>\n",
       "      <th>1350</th>\n",
       "      <td>0.828519</td>\n",
       "      <td>0.171481</td>\n",
       "    </tr>\n",
       "    <tr>\n",
       "      <th>1351</th>\n",
       "      <td>0.222062</td>\n",
       "      <td>0.777938</td>\n",
       "    </tr>\n",
       "    <tr>\n",
       "      <th>1352</th>\n",
       "      <td>0.204629</td>\n",
       "      <td>0.795371</td>\n",
       "    </tr>\n",
       "  </tbody>\n",
       "</table>\n",
       "<p>1353 rows × 2 columns</p>\n",
       "</div>"
      ],
      "text/plain": [
       "       Class_0   Class_1\n",
       "0     0.088072  0.911928\n",
       "1     0.273612  0.726388\n",
       "2     0.107149  0.892851\n",
       "3     0.077191  0.922809\n",
       "4     0.084086  0.915914\n",
       "...        ...       ...\n",
       "1348  0.803848  0.196152\n",
       "1349  0.708234  0.291766\n",
       "1350  0.828519  0.171481\n",
       "1351  0.222062  0.777938\n",
       "1352  0.204629  0.795371\n",
       "\n",
       "[1353 rows x 2 columns]"
      ]
     },
     "execution_count": 39,
     "metadata": {},
     "output_type": "execute_result"
    }
   ],
   "source": [
    "# Generating the predictions probabilities on the unseen data\n",
    "unseen_preds_probs = rfc_3.predict_proba(X_unseen_pp)\n",
    "unseen_preds_probs_df = pd.DataFrame(unseen_preds_probs)\n",
    "unseen_preds_probs_df.columns=['Class_0', 'Class_1']\n",
    "unseen_preds_probs_df"
   ]
  },
  {
   "cell_type": "code",
   "execution_count": 42,
   "metadata": {
    "execution": {
     "iopub.execute_input": "2022-09-02T12:36:47.060983Z",
     "iopub.status.busy": "2022-09-02T12:36:47.058977Z",
     "iopub.status.idle": "2022-09-02T12:36:47.122988Z",
     "shell.execute_reply": "2022-09-02T12:36:47.119989Z",
     "shell.execute_reply.started": "2022-09-02T12:36:47.059983Z"
    },
    "id": "IE71xD-Tyng2",
    "outputId": "f5fdc542-682b-430a-e1d1-52ee1635ad72"
   },
   "outputs": [
    {
     "data": {
      "text/html": [
       "<div>\n",
       "<style scoped>\n",
       "    .dataframe tbody tr th:only-of-type {\n",
       "        vertical-align: middle;\n",
       "    }\n",
       "\n",
       "    .dataframe tbody tr th {\n",
       "        vertical-align: top;\n",
       "    }\n",
       "\n",
       "    .dataframe thead th {\n",
       "        text-align: right;\n",
       "    }\n",
       "</style>\n",
       "<table border=\"1\" class=\"dataframe\">\n",
       "  <thead>\n",
       "    <tr style=\"text-align: right;\">\n",
       "      <th></th>\n",
       "      <th>Providers</th>\n",
       "      <th>Potential_Fraud?</th>\n",
       "      <th>Non_Fraud_Prob_Score</th>\n",
       "      <th>Fraud_Prob_Score</th>\n",
       "    </tr>\n",
       "  </thead>\n",
       "  <tbody>\n",
       "    <tr>\n",
       "      <th>0</th>\n",
       "      <td>PRV51002</td>\n",
       "      <td>1</td>\n",
       "      <td>0.088072</td>\n",
       "      <td>0.911928</td>\n",
       "    </tr>\n",
       "    <tr>\n",
       "      <th>1</th>\n",
       "      <td>PRV51006</td>\n",
       "      <td>1</td>\n",
       "      <td>0.273612</td>\n",
       "      <td>0.726388</td>\n",
       "    </tr>\n",
       "    <tr>\n",
       "      <th>2</th>\n",
       "      <td>PRV51009</td>\n",
       "      <td>1</td>\n",
       "      <td>0.107149</td>\n",
       "      <td>0.892851</td>\n",
       "    </tr>\n",
       "    <tr>\n",
       "      <th>3</th>\n",
       "      <td>PRV51010</td>\n",
       "      <td>1</td>\n",
       "      <td>0.077191</td>\n",
       "      <td>0.922809</td>\n",
       "    </tr>\n",
       "    <tr>\n",
       "      <th>4</th>\n",
       "      <td>PRV51018</td>\n",
       "      <td>1</td>\n",
       "      <td>0.084086</td>\n",
       "      <td>0.915914</td>\n",
       "    </tr>\n",
       "    <tr>\n",
       "      <th>...</th>\n",
       "      <td>...</td>\n",
       "      <td>...</td>\n",
       "      <td>...</td>\n",
       "      <td>...</td>\n",
       "    </tr>\n",
       "    <tr>\n",
       "      <th>1348</th>\n",
       "      <td>PRV57713</td>\n",
       "      <td>0</td>\n",
       "      <td>0.803848</td>\n",
       "      <td>0.196152</td>\n",
       "    </tr>\n",
       "    <tr>\n",
       "      <th>1349</th>\n",
       "      <td>PRV57726</td>\n",
       "      <td>0</td>\n",
       "      <td>0.708234</td>\n",
       "      <td>0.291766</td>\n",
       "    </tr>\n",
       "    <tr>\n",
       "      <th>1350</th>\n",
       "      <td>PRV57745</td>\n",
       "      <td>0</td>\n",
       "      <td>0.828519</td>\n",
       "      <td>0.171481</td>\n",
       "    </tr>\n",
       "    <tr>\n",
       "      <th>1351</th>\n",
       "      <td>PRV57749</td>\n",
       "      <td>1</td>\n",
       "      <td>0.222062</td>\n",
       "      <td>0.777938</td>\n",
       "    </tr>\n",
       "    <tr>\n",
       "      <th>1352</th>\n",
       "      <td>PRV57750</td>\n",
       "      <td>1</td>\n",
       "      <td>0.204629</td>\n",
       "      <td>0.795371</td>\n",
       "    </tr>\n",
       "  </tbody>\n",
       "</table>\n",
       "<p>1353 rows × 4 columns</p>\n",
       "</div>"
      ],
      "text/plain": [
       "     Providers  Potential_Fraud?  Non_Fraud_Prob_Score  Fraud_Prob_Score\n",
       "0     PRV51002                 1              0.088072          0.911928\n",
       "1     PRV51006                 1              0.273612          0.726388\n",
       "2     PRV51009                 1              0.107149          0.892851\n",
       "3     PRV51010                 1              0.077191          0.922809\n",
       "4     PRV51018                 1              0.084086          0.915914\n",
       "...        ...               ...                   ...               ...\n",
       "1348  PRV57713                 0              0.803848          0.196152\n",
       "1349  PRV57726                 0              0.708234          0.291766\n",
       "1350  PRV57745                 0              0.828519          0.171481\n",
       "1351  PRV57749                 1              0.222062          0.777938\n",
       "1352  PRV57750                 1              0.204629          0.795371\n",
       "\n",
       "[1353 rows x 4 columns]"
      ]
     },
     "execution_count": 42,
     "metadata": {},
     "output_type": "execute_result"
    }
   ],
   "source": [
    "# Predicted Results of all the providers\n",
    "unseen_results = pd.concat([pd.DataFrame(y_unseen_pp), pd.DataFrame(unseen_preds), unseen_preds_probs_df],axis=1)\n",
    "unseen_results.reset_index(drop=True, inplace=True)\n",
    "unseen_results.columns = ['Providers','Potential_Fraud?', 'Non_Fraud_Prob_Score', 'Fraud_Prob_Score']\n",
    "unseen_results"
   ]
  },
  {
   "cell_type": "code",
   "execution_count": 51,
   "metadata": {
    "execution": {
     "iopub.execute_input": "2022-09-02T13:45:41.458200Z",
     "iopub.status.busy": "2022-09-02T13:45:41.457195Z",
     "iopub.status.idle": "2022-09-02T13:45:41.497191Z",
     "shell.execute_reply": "2022-09-02T13:45:41.495191Z",
     "shell.execute_reply.started": "2022-09-02T13:45:41.458200Z"
    }
   },
   "outputs": [
    {
     "data": {
      "text/html": [
       "<div>\n",
       "<style scoped>\n",
       "    .dataframe tbody tr th:only-of-type {\n",
       "        vertical-align: middle;\n",
       "    }\n",
       "\n",
       "    .dataframe tbody tr th {\n",
       "        vertical-align: top;\n",
       "    }\n",
       "\n",
       "    .dataframe thead th {\n",
       "        text-align: right;\n",
       "    }\n",
       "</style>\n",
       "<table border=\"1\" class=\"dataframe\">\n",
       "  <thead>\n",
       "    <tr style=\"text-align: right;\">\n",
       "      <th></th>\n",
       "      <th>Providers</th>\n",
       "      <th>Potential_Fraud?</th>\n",
       "      <th>Non_Fraud_Prob_Score</th>\n",
       "      <th>Fraud_Prob_Score</th>\n",
       "    </tr>\n",
       "  </thead>\n",
       "  <tbody>\n",
       "    <tr>\n",
       "      <th>2</th>\n",
       "      <td>PRV51009</td>\n",
       "      <td>1</td>\n",
       "      <td>0.107149</td>\n",
       "      <td>0.892851</td>\n",
       "    </tr>\n",
       "  </tbody>\n",
       "</table>\n",
       "</div>"
      ],
      "text/plain": [
       "  Providers  Potential_Fraud?  Non_Fraud_Prob_Score  Fraud_Prob_Score\n",
       "2  PRV51009                 1              0.107149          0.892851"
      ]
     },
     "execution_count": 51,
     "metadata": {},
     "output_type": "execute_result"
    }
   ],
   "source": [
    "# Check whether a specific PROVIDER is frauster or not?\n",
    "unseen_results[unseen_results['Providers'] == 'PRV51009']"
   ]
  },
  {
   "cell_type": "markdown",
   "metadata": {
    "id": "r-VhXYclyng3"
   },
   "source": [
    "### **`SUMMARY`**\n",
    "- Here, we have generated the predictions from the best-trained model on the unseen dataset."
   ]
  },
  {
   "cell_type": "markdown",
   "metadata": {
    "id": "0IC2VKpXyng4"
   },
   "source": [
    "## **Performance_on_TRAIN_and_VALIDATION_Sets**"
   ]
  },
  {
   "cell_type": "code",
   "execution_count": 20,
   "metadata": {
    "execution": {
     "iopub.execute_input": "2022-09-02T12:03:25.956200Z",
     "iopub.status.busy": "2022-09-02T12:03:25.955199Z",
     "iopub.status.idle": "2022-09-02T12:03:26.044197Z",
     "shell.execute_reply": "2022-09-02T12:03:26.042195Z",
     "shell.execute_reply.started": "2022-09-02T12:03:25.956200Z"
    },
    "id": "Lb5Hc96Jci_h"
   },
   "outputs": [],
   "source": [
    "def pred_prob(clf, data): \n",
    "    \"\"\"\n",
    "    Description :: This function is created for storing the predicted probabability using the trained model.\n",
    "    \n",
    "    Input :: It accepts below input parameters :\n",
    "      - clf : Trained model classifier\n",
    "      - data : Dataset for which we want to generate the predictions\n",
    "    \"\"\"\n",
    "    y_pred = clf.predict_proba(data)[:,1]\n",
    "    return y_pred\n",
    "\n",
    "def draw_roc(train_fpr, train_tpr, test_fpr, test_tpr):\n",
    "    \"\"\"\n",
    "    Description :: This function is created for calculating the AUC score on train and test data. And, plotting the ROC curve.\n",
    "    \n",
    "    Input :: It accepts below input parameters :\n",
    "      - train_fpr : Train False +ve rate\n",
    "      - train_tpr : Train True +ve rate\n",
    "      - test_fpr : Test False +ve rate\n",
    "      - test_tpr : Test True +ve rate\n",
    "    \"\"\"\n",
    "    # calculate auc for train and test\n",
    "    train_auc = auc(train_fpr, train_tpr)\n",
    "    test_auc = auc(test_fpr, test_tpr)\n",
    "    with plt.style.context('seaborn-poster'):\n",
    "      plt.plot(train_fpr, train_tpr, label=\"Train AUC =\"+\"{:.4f}\".format(train_auc), color='blue')\n",
    "      plt.plot(test_fpr, test_tpr, label=\"Test AUC =\"+\"{:.4f}\".format(test_auc), color='red')\n",
    "      plt.legend()\n",
    "      plt.xlabel(\"False Positive Rate(FPR)\", fontdict=label_font_dict)\n",
    "      plt.ylabel(\"True Positive Rate(TPR)\", fontdict=label_font_dict)\n",
    "      plt.title(\"Area Under Curve\", fontdict=title_font_dict)\n",
    "      plt.grid(b=True, which='major', color='lightgrey', linestyle='--')\n",
    "      plt.minorticks_on()\n",
    "      plt.show()\n",
    "    \n",
    "def find_best_threshold(threshold, fpr, tpr):\n",
    "    \"\"\"\n",
    "    Description :: This function is created for finding the best threshold value.\n",
    "    \"\"\"\n",
    "    t = threshold[np.argmax(tpr * (1-fpr))]\n",
    "    return t\n",
    "\n",
    "def predict_with_best_t(proba, threshold):\n",
    "    \"\"\"\n",
    "    Description :: This function is created for generating the predictions based on the best threshold value.\n",
    "    \"\"\"\n",
    "    predictions = []\n",
    "    for i in proba:\n",
    "        if i>=threshold:\n",
    "            predictions.append(1)\n",
    "        else:\n",
    "            predictions.append(0)\n",
    "    return predictions\n",
    "\n",
    "def draw_confusion_matrix(best_t, x_train, x_test, y_train, y_test, y_train_pred, y_test_pred):\n",
    "    \"\"\"\n",
    "    Description :: This function is created for plotting the confusion matrix of TRAIN and TEST sets.\n",
    "    \"\"\"\n",
    "    fig, ax = plt.subplots(1,2, figsize=(20,6))\n",
    "\n",
    "    train_prediction = predict_with_best_t(y_train_pred, best_t)\n",
    "    cm = confusion_matrix(y_train, train_prediction)\n",
    "    with plt.style.context('seaborn'):\n",
    "        sns.heatmap(cm, annot=True, fmt='d', ax=ax[0], cmap='viridis')\n",
    "        ax[0].set_title('Train Dataset Confusion Matrix', fontdict=title_font_dict)\n",
    "        ax[0].set_xlabel(\"Predicted Label\", fontdict=label_font_dict)\n",
    "        ax[0].set_ylabel(\"Actual Label\", fontdict=label_font_dict)\n",
    "\n",
    "    test_prediction = predict_with_best_t(y_test_pred, best_t)\n",
    "    cm = confusion_matrix(y_test, test_prediction)\n",
    "    with plt.style.context('seaborn'):\n",
    "        sns.heatmap(cm, annot=True, fmt='d', ax=ax[1], cmap='summer')\n",
    "        ax[1].set_title('Test Dataset Confusion Matrix', fontdict=title_font_dict)\n",
    "        ax[1].set_xlabel(\"Predicted Label\", fontdict=label_font_dict)\n",
    "        ax[1].set_ylabel(\"Actual Label\", fontdict=label_font_dict)\n",
    "    \n",
    "    plt.show()\n",
    "    \n",
    "    return train_prediction, test_prediction"
   ]
  },
  {
   "cell_type": "code",
   "execution_count": 21,
   "metadata": {
    "execution": {
     "iopub.execute_input": "2022-09-02T12:03:26.047198Z",
     "iopub.status.busy": "2022-09-02T12:03:26.046200Z",
     "iopub.status.idle": "2022-09-02T12:03:26.094198Z",
     "shell.execute_reply": "2022-09-02T12:03:26.089201Z",
     "shell.execute_reply.started": "2022-09-02T12:03:26.047198Z"
    },
    "id": "_r3xu3XXeS9v"
   },
   "outputs": [],
   "source": [
    "def validate_model(clf, x_train, x_test, y_train, y_test):\n",
    "    \"\"\"\n",
    "    Description :: This function is created for performing the evaluation of the trained model.\n",
    "    \"\"\"\n",
    "    # predict the probability of train data\n",
    "    y_train_pred = pred_prob(clf, x_train)\n",
    "    \n",
    "    # predict the probability of test data\n",
    "    y_test_pred = pred_prob(clf, x_test)\n",
    "    \n",
    "    # calculate tpr, fpr using roc_curve\n",
    "    train_fpr, train_tpr, tr_thresholds = roc_curve(y_train, y_train_pred)\n",
    "    test_fpr, test_tpr, te_thresholds = roc_curve(y_test, y_test_pred)\n",
    "    \n",
    "    # calculate auc for train and test\n",
    "    train_auc = auc(train_fpr, train_tpr)\n",
    "    print(\"### Train AUC = {}\".format(train_auc))\n",
    "    test_auc = auc(test_fpr, test_tpr)\n",
    "    print(\"### Test AUC = {}\".format(test_auc))\n",
    "    \n",
    "    # plotting the ROC curve\n",
    "    draw_roc(train_fpr, train_tpr, test_fpr, test_tpr)\n",
    "    \n",
    "    # Best threshold value\n",
    "    best_t = find_best_threshold(tr_thresholds, train_fpr, train_tpr)\n",
    "    \n",
    "    # Plotting the confusion matrices\n",
    "    train_prediction, test_prediction = draw_confusion_matrix(best_t, x_train, x_test, y_train, y_test, y_train_pred, y_test_pred)\n",
    "    \n",
    "    # Generating the F1-scores\n",
    "    train_f1_score = f1_score(y_train, train_prediction)\n",
    "    test_f1_score = f1_score(y_test, test_prediction)\n",
    "    \n",
    "    return test_auc, train_f1_score, test_f1_score, best_t"
   ]
  },
  {
   "cell_type": "code",
   "execution_count": 22,
   "metadata": {
    "execution": {
     "iopub.execute_input": "2022-09-02T12:03:26.099197Z",
     "iopub.status.busy": "2022-09-02T12:03:26.097199Z",
     "iopub.status.idle": "2022-09-02T12:03:27.781399Z",
     "shell.execute_reply": "2022-09-02T12:03:27.777398Z",
     "shell.execute_reply.started": "2022-09-02T12:03:26.099197Z"
    },
    "id": "zK3dEaKAnugE"
   },
   "outputs": [],
   "source": [
    "# Reading the TRAIN and VALIDATION sets for checking the model performance\n",
    "X_train_std = pd.read_csv(\"X_train_std.csv\", index_col=0)\n",
    "X_test_std = pd.read_csv(\"X_test_std.csv\", index_col=0)\n",
    "\n",
    "y_train = pd.read_csv(\"y_train.csv\", index_col=0)\n",
    "y_test = pd.read_csv(\"y_test.csv\", index_col=0)"
   ]
  },
  {
   "cell_type": "code",
   "execution_count": 23,
   "metadata": {
    "execution": {
     "iopub.execute_input": "2022-09-02T12:03:27.786397Z",
     "iopub.status.busy": "2022-09-02T12:03:27.785400Z",
     "iopub.status.idle": "2022-09-02T12:03:27.814401Z",
     "shell.execute_reply": "2022-09-02T12:03:27.810404Z",
     "shell.execute_reply.started": "2022-09-02T12:03:27.786397Z"
    },
    "id": "J37T7AWqVl3F",
    "outputId": "d52b24a2-e29f-4ff1-8c94-714ffae7e1ff"
   },
   "outputs": [
    {
     "data": {
      "text/plain": [
       "array([0, 0, 0, ..., 0, 0, 1], dtype=int64)"
      ]
     },
     "execution_count": 23,
     "metadata": {},
     "output_type": "execute_result"
    }
   ],
   "source": [
    "np.ravel(y_test)"
   ]
  },
  {
   "cell_type": "code",
   "execution_count": 24,
   "metadata": {
    "execution": {
     "iopub.execute_input": "2022-09-02T12:03:27.819400Z",
     "iopub.status.busy": "2022-09-02T12:03:27.818399Z",
     "iopub.status.idle": "2022-09-02T12:03:31.413777Z",
     "shell.execute_reply": "2022-09-02T12:03:31.409777Z",
     "shell.execute_reply.started": "2022-09-02T12:03:27.819400Z"
    },
    "id": "Yfji-CNSVl3s",
    "outputId": "7ef2422f-f66a-4523-8684-7a06a6abd775"
   },
   "outputs": [
    {
     "name": "stdout",
     "output_type": "stream",
     "text": [
      "### Train AUC = 0.9464100603279804\n",
      "### Test AUC = 0.9509593161150978\n"
     ]
    },
    {
     "data": {
      "image/png": "[encoded data removed]",
      "text/plain": [
       "<Figure size 921.6x633.6 with 1 Axes>"
      ]
     },
     "metadata": {
      "needs_background": "light"
     },
     "output_type": "display_data"
    },
    {
     "data": {
      "image/png": "[encoded data removed]",
      "text/plain": [
       "<Figure size 1440x432 with 4 Axes>"
      ]
     },
     "metadata": {
      "needs_background": "light"
     },
     "output_type": "display_data"
    },
    {
     "name": "stdout",
     "output_type": "stream",
     "text": [
      "\n",
      "\n",
      "### Best Threshold = 0.5567\n",
      "### Model AUC is : 0.9510\n",
      "### Model Train F1 Score is : 0.5918\n",
      "### Model Test F1 Score is : 0.5828\n"
     ]
    }
   ],
   "source": [
    "# Validate model\n",
    "test_auc, train_f1_score, test_f1_score, best_t = validate_model(rfc_3, X_train_std, X_test_std, np.ravel(y_train), np.ravel(y_test))\n",
    "\n",
    "print(\"\\n\")\n",
    "print(\"### Best Threshold = {:.4f}\".format(best_t))\n",
    "print(\"### Model AUC is : {:.4f}\".format(test_auc))\n",
    "print(\"### Model Train F1 Score is : {:.4f}\".format(train_f1_score))\n",
    "print(\"### Model Test F1 Score is : {:.4f}\".format(test_f1_score))"
   ]
  },
  {
   "cell_type": "code",
   "execution_count": 25,
   "metadata": {
    "execution": {
     "iopub.execute_input": "2022-09-02T12:03:31.424777Z",
     "iopub.status.busy": "2022-09-02T12:03:31.423778Z",
     "iopub.status.idle": "2022-09-02T12:03:31.490781Z",
     "shell.execute_reply": "2022-09-02T12:03:31.488923Z",
     "shell.execute_reply.started": "2022-09-02T12:03:31.424777Z"
    },
    "id": "01uoJOm2Vl3t",
    "outputId": "56d9e582-f19f-4ec1-869a-b48145fba06c"
   },
   "outputs": [
    {
     "data": {
      "text/html": [
       "<div>\n",
       "<style scoped>\n",
       "    .dataframe tbody tr th:only-of-type {\n",
       "        vertical-align: middle;\n",
       "    }\n",
       "\n",
       "    .dataframe tbody tr th {\n",
       "        vertical-align: top;\n",
       "    }\n",
       "\n",
       "    .dataframe thead th {\n",
       "        text-align: right;\n",
       "    }\n",
       "</style>\n",
       "<table border=\"1\" class=\"dataframe\">\n",
       "  <thead>\n",
       "    <tr style=\"text-align: right;\">\n",
       "      <th></th>\n",
       "      <th>Features</th>\n",
       "      <th>Importance_Model_1</th>\n",
       "    </tr>\n",
       "  </thead>\n",
       "  <tbody>\n",
       "    <tr>\n",
       "      <th>0</th>\n",
       "      <td>InscClaimAmtReimbursed</td>\n",
       "      <td>0.065302</td>\n",
       "    </tr>\n",
       "    <tr>\n",
       "      <th>1</th>\n",
       "      <td>DeductibleAmtPaid</td>\n",
       "      <td>0.054782</td>\n",
       "    </tr>\n",
       "    <tr>\n",
       "      <th>2</th>\n",
       "      <td>RenalDiseaseIndicator</td>\n",
       "      <td>0.000297</td>\n",
       "    </tr>\n",
       "    <tr>\n",
       "      <th>3</th>\n",
       "      <td>ChronicCond_ObstrPulmonary</td>\n",
       "      <td>0.000880</td>\n",
       "    </tr>\n",
       "    <tr>\n",
       "      <th>4</th>\n",
       "      <td>ChronicCond_Osteoporasis</td>\n",
       "      <td>0.000377</td>\n",
       "    </tr>\n",
       "  </tbody>\n",
       "</table>\n",
       "</div>"
      ],
      "text/plain": [
       "                     Features  Importance_Model_1\n",
       "0      InscClaimAmtReimbursed            0.065302\n",
       "1           DeductibleAmtPaid            0.054782\n",
       "2       RenalDiseaseIndicator            0.000297\n",
       "3  ChronicCond_ObstrPulmonary            0.000880\n",
       "4    ChronicCond_Osteoporasis            0.000377"
      ]
     },
     "execution_count": 25,
     "metadata": {},
     "output_type": "execute_result"
    }
   ],
   "source": [
    "feats_imps_4 = pd.DataFrame({'Features': X_train_std.columns, 'Importance_Model_1': rfc_3.feature_importances_})\n",
    "feats_imps_4 = feats_imps_4[feats_imps_4['Importance_Model_1'] != 0]\n",
    "feats_imps_4.reset_index(drop=True, inplace=True)\n",
    "feats_imps_4.head()"
   ]
  },
  {
   "cell_type": "code",
   "execution_count": 26,
   "metadata": {
    "execution": {
     "iopub.execute_input": "2022-09-02T12:03:31.495775Z",
     "iopub.status.busy": "2022-09-02T12:03:31.494782Z",
     "iopub.status.idle": "2022-09-02T12:03:31.554764Z",
     "shell.execute_reply": "2022-09-02T12:03:31.551762Z",
     "shell.execute_reply.started": "2022-09-02T12:03:31.495775Z"
    },
    "id": "XU0dckbeVl3u"
   },
   "outputs": [],
   "source": [
    "top_20_pos_feats_4 = feats_imps_4.sort_values(by='Importance_Model_1',axis=0,ascending=False)['Features'].iloc[0:20]\n",
    "top_20_pos_feats_scores_4 = feats_imps_4.sort_values(by='Importance_Model_1',axis=0,ascending=False)['Importance_Model_1'].iloc[0:20]"
   ]
  },
  {
   "cell_type": "code",
   "execution_count": 27,
   "metadata": {
    "execution": {
     "iopub.execute_input": "2022-09-02T12:03:31.558767Z",
     "iopub.status.busy": "2022-09-02T12:03:31.557766Z",
     "iopub.status.idle": "2022-09-02T12:03:33.573379Z",
     "shell.execute_reply": "2022-09-02T12:03:33.571382Z",
     "shell.execute_reply.started": "2022-09-02T12:03:31.558767Z"
    },
    "id": "A0779i_KVl3v",
    "outputId": "b1dc2ebb-4311-4db9-cec4-3f40439ae3cf"
   },
   "outputs": [
    {
     "data": {
      "image/png": "[encoded data removed]",
      "text/plain": [
       "<Figure size 921.6x633.6 with 1 Axes>"
      ]
     },
     "metadata": {
      "needs_background": "light"
     },
     "output_type": "display_data"
    }
   ],
   "source": [
    "with plt.style.context('seaborn-poster'):\n",
    "    sns.barplot(y=top_20_pos_feats_4, x=top_20_pos_feats_scores_4, orient='h', palette='coolwarm')\n",
    "    plt.xlabel(\"\\nFeatures Importance\", fontdict=label_font_dict)\n",
    "    plt.ylabel(\"Features\\n\", fontdict=label_font_dict)\n",
    "    plt.title(\"Top 20 Importance Positive Features\\n\", fontdict=title_font_dict)"
   ]
  },
  {
   "cell_type": "code",
   "execution_count": 28,
   "metadata": {
    "execution": {
     "iopub.execute_input": "2022-09-02T12:03:33.581394Z",
     "iopub.status.busy": "2022-09-02T12:03:33.579379Z",
     "iopub.status.idle": "2022-09-02T12:03:33.622379Z",
     "shell.execute_reply": "2022-09-02T12:03:33.619397Z",
     "shell.execute_reply.started": "2022-09-02T12:03:33.581394Z"
    },
    "id": "GM5nuXaXVl3w",
    "outputId": "478ab880-4c19-4f3e-d323-fb79f07fca16"
   },
   "outputs": [
    {
     "data": {
      "text/html": [
       "<div>\n",
       "<style scoped>\n",
       "    .dataframe tbody tr th:only-of-type {\n",
       "        vertical-align: middle;\n",
       "    }\n",
       "\n",
       "    .dataframe tbody tr th {\n",
       "        vertical-align: top;\n",
       "    }\n",
       "\n",
       "    .dataframe thead th {\n",
       "        text-align: right;\n",
       "    }\n",
       "</style>\n",
       "<table border=\"1\" class=\"dataframe\">\n",
       "  <thead>\n",
       "    <tr style=\"text-align: right;\">\n",
       "      <th></th>\n",
       "      <th>Feature</th>\n",
       "      <th>Imp_Score</th>\n",
       "    </tr>\n",
       "  </thead>\n",
       "  <tbody>\n",
       "    <tr>\n",
       "      <th>17</th>\n",
       "      <td>PRV_CoPayment</td>\n",
       "      <td>0.081920</td>\n",
       "    </tr>\n",
       "    <tr>\n",
       "      <th>35</th>\n",
       "      <td>OPT_PHY_CoPayment</td>\n",
       "      <td>0.070996</td>\n",
       "    </tr>\n",
       "    <tr>\n",
       "      <th>0</th>\n",
       "      <td>InscClaimAmtReimbursed</td>\n",
       "      <td>0.065302</td>\n",
       "    </tr>\n",
       "    <tr>\n",
       "      <th>145</th>\n",
       "      <td>ClmCount_Provider_BeneID_OperatingPhysician_Cl...</td>\n",
       "      <td>0.056550</td>\n",
       "    </tr>\n",
       "    <tr>\n",
       "      <th>1</th>\n",
       "      <td>DeductibleAmtPaid</td>\n",
       "      <td>0.054782</td>\n",
       "    </tr>\n",
       "    <tr>\n",
       "      <th>144</th>\n",
       "      <td>ClmCount_Provider_BeneID_OperatingPhysician_Cl...</td>\n",
       "      <td>0.052589</td>\n",
       "    </tr>\n",
       "    <tr>\n",
       "      <th>142</th>\n",
       "      <td>ClmCount_Provider_BeneID_AttendingPhysician_Cl...</td>\n",
       "      <td>0.051732</td>\n",
       "    </tr>\n",
       "    <tr>\n",
       "      <th>153</th>\n",
       "      <td>ClmCount_Provider_BeneID_ClmDiagnosisCode_7</td>\n",
       "      <td>0.051206</td>\n",
       "    </tr>\n",
       "    <tr>\n",
       "      <th>10</th>\n",
       "      <td>Admitted_Duration</td>\n",
       "      <td>0.035899</td>\n",
       "    </tr>\n",
       "    <tr>\n",
       "      <th>50</th>\n",
       "      <td>Claim_Admit_Diag_Code_Admit_Duration</td>\n",
       "      <td>0.030555</td>\n",
       "    </tr>\n",
       "    <tr>\n",
       "      <th>154</th>\n",
       "      <td>ClmCount_Provider_BeneID_ClmDiagnosisCode_8</td>\n",
       "      <td>0.028236</td>\n",
       "    </tr>\n",
       "    <tr>\n",
       "      <th>146</th>\n",
       "      <td>ClmCount_Provider_BeneID_OperatingPhysician_Cl...</td>\n",
       "      <td>0.028039</td>\n",
       "    </tr>\n",
       "    <tr>\n",
       "      <th>131</th>\n",
       "      <td>ClmCount_Provider_ClmDiagnosisCode_9</td>\n",
       "      <td>0.026697</td>\n",
       "    </tr>\n",
       "    <tr>\n",
       "      <th>140</th>\n",
       "      <td>ClmCount_Provider_BeneID_AttendingPhysician_Cl...</td>\n",
       "      <td>0.026592</td>\n",
       "    </tr>\n",
       "    <tr>\n",
       "      <th>105</th>\n",
       "      <td>Claim_DiagCode9_OP_Annual_Ded_Amt</td>\n",
       "      <td>0.026252</td>\n",
       "    </tr>\n",
       "    <tr>\n",
       "      <th>113</th>\n",
       "      <td>Claim_ProcCode1_Insc_ReImb_Amt</td>\n",
       "      <td>0.025006</td>\n",
       "    </tr>\n",
       "    <tr>\n",
       "      <th>63</th>\n",
       "      <td>Claim_DiagCode1_Admit_Duration</td>\n",
       "      <td>0.024637</td>\n",
       "    </tr>\n",
       "    <tr>\n",
       "      <th>94</th>\n",
       "      <td>Claim_DiagCode8_IP_Annual_ReImb_Amt</td>\n",
       "      <td>0.023743</td>\n",
       "    </tr>\n",
       "    <tr>\n",
       "      <th>129</th>\n",
       "      <td>ClmCount_Provider_ClmDiagnosisCode_7</td>\n",
       "      <td>0.023474</td>\n",
       "    </tr>\n",
       "    <tr>\n",
       "      <th>92</th>\n",
       "      <td>Claim_DiagCode8_Insc_ReImb_Amt</td>\n",
       "      <td>0.023008</td>\n",
       "    </tr>\n",
       "  </tbody>\n",
       "</table>\n",
       "</div>"
      ],
      "text/plain": [
       "                                               Feature  Imp_Score\n",
       "17                                       PRV_CoPayment   0.081920\n",
       "35                                   OPT_PHY_CoPayment   0.070996\n",
       "0                               InscClaimAmtReimbursed   0.065302\n",
       "145  ClmCount_Provider_BeneID_OperatingPhysician_Cl...   0.056550\n",
       "1                                    DeductibleAmtPaid   0.054782\n",
       "144  ClmCount_Provider_BeneID_OperatingPhysician_Cl...   0.052589\n",
       "142  ClmCount_Provider_BeneID_AttendingPhysician_Cl...   0.051732\n",
       "153        ClmCount_Provider_BeneID_ClmDiagnosisCode_7   0.051206\n",
       "10                                   Admitted_Duration   0.035899\n",
       "50                Claim_Admit_Diag_Code_Admit_Duration   0.030555\n",
       "154        ClmCount_Provider_BeneID_ClmDiagnosisCode_8   0.028236\n",
       "146  ClmCount_Provider_BeneID_OperatingPhysician_Cl...   0.028039\n",
       "131               ClmCount_Provider_ClmDiagnosisCode_9   0.026697\n",
       "140  ClmCount_Provider_BeneID_AttendingPhysician_Cl...   0.026592\n",
       "105                  Claim_DiagCode9_OP_Annual_Ded_Amt   0.026252\n",
       "113                     Claim_ProcCode1_Insc_ReImb_Amt   0.025006\n",
       "63                      Claim_DiagCode1_Admit_Duration   0.024637\n",
       "94                 Claim_DiagCode8_IP_Annual_ReImb_Amt   0.023743\n",
       "129               ClmCount_Provider_ClmDiagnosisCode_7   0.023474\n",
       "92                      Claim_DiagCode8_Insc_ReImb_Amt   0.023008"
      ]
     },
     "execution_count": 28,
     "metadata": {},
     "output_type": "execute_result"
    }
   ],
   "source": [
    "result_feats_scrs_4 = pd.DataFrame({'Feature': top_20_pos_feats_4, 'Imp_Score': top_20_pos_feats_scores_4})\n",
    "result_feats_scrs_4"
   ]
  },
  {
   "cell_type": "markdown",
   "metadata": {
    "id": "ZfOButQ2ynhB"
   },
   "source": [
    "### **`SUMMARY`**\n",
    "- Here, we have the most important features on the basis of which model is giving the predictions."
   ]
  }
 ],
 "metadata": {
  "colab": {
   "collapsed_sections": [],
   "name": "CS_1_Model_Pipeline.ipynb",
   "provenance": []
  },
  "kernelspec": {
   "display_name": "Python 3",
   "language": "python",
   "name": "python3"
  },
  "language_info": {
   "codemirror_mode": {
    "name": "ipython",
    "version": 3
   },
   "file_extension": ".py",
   "mimetype": "text/x-python",
   "name": "python",
   "nbconvert_exporter": "python",
   "pygments_lexer": "ipython3",
   "version": "3.6.2"
  }
 },
 "nbformat": 4,
 "nbformat_minor": 4
}
